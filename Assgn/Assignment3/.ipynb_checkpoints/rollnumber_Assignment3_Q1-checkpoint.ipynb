{
 "cells": [
  {
   "cell_type": "markdown",
   "id": "5b7c2e76",
   "metadata": {},
   "source": [
    "# Assignment 3"
   ]
  },
  {
   "cell_type": "markdown",
   "id": "81a04618",
   "metadata": {},
   "source": [
    "## Question 1"
   ]
  },
  {
   "cell_type": "markdown",
   "id": "b7be834e",
   "metadata": {},
   "source": [
    "This question is based on seminal work by Zhang et al. The paper is titled 'Understanding deep learning requires rethinking generalization'. The paper talks about how the traditional methods fail to explain generalization of neural network. They show that a sufficiently parameterized network can easily fit a random labeling of the training data. This fitting cannot be curbed by explicit regularization.\n"
   ]
  },
  {
   "cell_type": "markdown",
   "id": "c1082657",
   "metadata": {},
   "source": [
    "## Q) 1.1 \n",
    "Lets take a hello world dataset for ML algorithm the MNIST!\n",
    "This question requires you to train a convolutional neural network.\n",
    "Architecture: 4 layers of convolution with 64 filters in each layer. Keep activation map size same using padding."
   ]
  },
  {
   "cell_type": "code",
   "execution_count": 2,
   "id": "d93211d0",
   "metadata": {},
   "outputs": [],
   "source": [
    "from tensorflow import keras   # feel free to use MNIST data from other sources \n",
    "import numpy as np"
   ]
  },
  {
   "cell_type": "code",
   "execution_count": 3,
   "id": "c4301e9e",
   "metadata": {},
   "outputs": [],
   "source": [
    "(x_train, y_train), (x_test, y_test) = keras.datasets.mnist.load_data()"
   ]
  },
  {
   "cell_type": "code",
   "execution_count": 4,
   "id": "8f8db95a",
   "metadata": {},
   "outputs": [
    {
     "name": "stdout",
     "output_type": "stream",
     "text": [
      "Train data shape: (60000, 28, 28, 1)\n",
      "60000 train samples\n",
      "10000 test samples\n"
     ]
    }
   ],
   "source": [
    "x_train = x_train.astype(\"float32\") / 255\n",
    "x_test = x_test.astype(\"float32\") / 255\n",
    "\n",
    "x_train = np.expand_dims(x_train, -1)\n",
    "x_test = np.expand_dims(x_test, -1)\n",
    "\n",
    "print(\"Train data shape:\", x_train.shape)\n",
    "print(x_train.shape[0], \"train samples\")\n",
    "print(x_test.shape[0], \"test samples\")"
   ]
  },
  {
   "cell_type": "markdown",
   "id": "c2f5bafd",
   "metadata": {},
   "source": [
    "#### One-hot-encode your labels here"
   ]
  },
  {
   "cell_type": "code",
   "execution_count": 5,
   "id": "73520c0c",
   "metadata": {},
   "outputs": [
    {
     "name": "stdout",
     "output_type": "stream",
     "text": [
      "label shape:  (60000,) (10000,)\n",
      "label shape:  (60000,) (10000,)\n"
     ]
    }
   ],
   "source": [
    "print ('label shape: ',np.shape(y_train),np.shape(y_test))\n",
    "def encode(y):\n",
    "    return y\n",
    "\n",
    "y_train = encode(y_train)\n",
    "y_test = encode(y_test)\n",
    "print ('label shape: ',np.shape(y_train),np.shape(y_test))"
   ]
  },
  {
   "cell_type": "markdown",
   "id": "38b8a6fa",
   "metadata": {},
   "source": [
    "#### Define the model mentioned above\n",
    "    1) Print the number of trainable parameters\n",
    "     Use sgd optimizer with softmax at last layer \n",
    "     Train the model until convergence (use test data only for model selection and early stopping!)\n",
    "    2) Report the train and test accuracy\n",
    "    3) Plot the train and test accuracy and loss throughout the training"
   ]
  },
  {
   "cell_type": "markdown",
   "id": "003189e1",
   "metadata": {},
   "source": [
    "## Q) 1.2\n",
    "Now lets start adding label noise to the dataset\n"
   ]
  },
  {
   "cell_type": "markdown",
   "id": "fc09bd79",
   "metadata": {},
   "source": [
    "1) Randomize 20% of train labels and repeat Q1 (1,2 & 3)\n",
    "\n",
    "2) Randomize 40% of train labels and repeat Q1 (3)\n",
    "\n",
    "3) Randomize 60% of train labels and repeat Q1 (3)\n",
    "\n",
    "4) Randomize 80% of train labels and repeat Q1 (3)\n",
    "\n",
    "5) Randomize 100% of train labels and repeat Q1 (3)\n"
   ]
  },
  {
   "cell_type": "code",
   "execution_count": null,
   "id": "4204eb72",
   "metadata": {},
   "outputs": [],
   "source": []
  }
 ],
 "metadata": {
  "kernelspec": {
   "display_name": "Python 3",
   "language": "python",
   "name": "python3"
  },
  "language_info": {
   "codemirror_mode": {
    "name": "ipython",
    "version": 3
   },
   "file_extension": ".py",
   "mimetype": "text/x-python",
   "name": "python",
   "nbconvert_exporter": "python",
   "pygments_lexer": "ipython3",
   "version": "3.8.5"
  }
 },
 "nbformat": 4,
 "nbformat_minor": 5
}
