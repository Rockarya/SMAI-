{
  "cells": [
    {
      "cell_type": "code",
      "execution_count": 1,
      "metadata": {
        "id": "Jj_mXOd4jEJt"
      },
      "outputs": [],
      "source": [
        "import numpy as np\n",
        "import pandas as pd\n",
        "import math\n",
        "from scipy.sparse import csr_matrix, csc_matrix, lil_matrix\n",
        "from sklearn.decomposition import TruncatedSVD"
      ]
    },
    {
      "cell_type": "code",
      "execution_count": 14,
      "metadata": {
        "id": "FpMnl3gMjrS_"
      },
      "outputs": [],
      "source": [
        "config = pd.read_csv('config.csv').iloc[0]\n",
        "user = config['id']\n",
        "k_value = config['k']"
      ]
    },
    {
      "cell_type": "code",
      "execution_count": 3,
      "metadata": {
        "id": "WWSXqFTfj7zM"
      },
      "outputs": [],
      "source": [
        "with open(config['dataset_file'], 'r') as inFile:\n",
        "    appreciate_data = inFile.readlines()"
      ]
    },
    {
      "cell_type": "code",
      "execution_count": 4,
      "metadata": {
        "id": "D3YrZsw3j9ry"
      },
      "outputs": [],
      "source": [
        "# it is to note that the user id is int, item id is string in the dataset and the user has liked the same image more than once during different time stamps\n",
        "temp_all_items = set()\n",
        "temp_user_likes = dict()\n",
        "for line in appreciate_data:\n",
        "    line = line.strip()\n",
        "    user_id = int(line.split()[0])\n",
        "    item_id = str(line.split()[1])\n",
        "\n",
        "    temp_all_items.add(item_id)\n",
        "\n",
        "    if user_id not in temp_user_likes:\n",
        "        temp_user_likes[user_id] = set()\n",
        "    \n",
        "    temp_user_likes[user_id].add(item_id)"
      ]
    },
    {
      "cell_type": "code",
      "execution_count": 5,
      "metadata": {
        "id": "pvhsJdQnj_qQ"
      },
      "outputs": [],
      "source": [
        "# storing all the items in sorted order\n",
        "all_items = []\n",
        "for item in temp_all_items:\n",
        "    all_items.append(item)\n",
        "\n",
        "all_items.sort()\n",
        "\n",
        "user_likes = dict()\n",
        "for k in temp_user_likes.keys():\n",
        "    arr = []\n",
        "    for item in temp_user_likes[k]:\n",
        "        arr.append(item)\n",
        "    arr.sort()\n",
        "    user_likes[k] = arr"
      ]
    },
    {
      "cell_type": "code",
      "execution_count": 6,
      "metadata": {
        "id": "myhpo1jhkBYJ"
      },
      "outputs": [],
      "source": [
        "# mapping items to the index number\n",
        "item_map = {}\n",
        "cnt = 0\n",
        "for item in all_items:\n",
        "    item_map[item] = cnt\n",
        "    cnt += 1"
      ]
    },
    {
      "cell_type": "code",
      "execution_count": 7,
      "metadata": {
        "id": "Fc5Yz6Z1kCqN"
      },
      "outputs": [],
      "source": [
        "m = len(user_likes)\n",
        "n = len(all_items)\n",
        "lil = lil_matrix((m,n), dtype=bool)\n",
        "r = 0\n",
        "for k in user_likes.keys():\n",
        "    for item in user_likes[k]:\n",
        "        c = item_map[item]\n",
        "        lil[r,c] = True\n",
        "    r += 1"
      ]
    },
    {
      "cell_type": "code",
      "execution_count": 8,
      "metadata": {
        "id": "ClC3wPsnkEXq"
      },
      "outputs": [],
      "source": [
        "# SVD\n",
        "svd = TruncatedSVD(n_components=2000, n_iter=5, random_state=42)\n",
        "mat = svd.fit_transform(lil)"
      ]
    },
    {
      "cell_type": "code",
      "execution_count": 9,
      "metadata": {
        "id": "riCzvA69lJXC"
      },
      "outputs": [],
      "source": [
        "def cosine_similarity(vec1, vec2):\n",
        "  dot = 0.0\n",
        "  sq1 = 0.0\n",
        "  sq2 = 0.0\n",
        "  for i in range(len(vec1)):\n",
        "    dot += (vec1[i]*vec2[i])\n",
        "    sq1 += (vec1[i]**2)\n",
        "    sq2 += (vec2[i]**2)\n",
        "\n",
        "  sq = math.sqrt(sq1*sq1)\n",
        "  cos_sim = dot/sq\n",
        "  # we are returning 1-cos_sim, because we will be sorting the list in ascending order(so lesser the distance more would be the similarity)\n",
        "  return 1.0 - cos_sim\n"
      ]
    },
    {
      "cell_type": "code",
      "source": [
        "# as in this problem, we are reducing the dimension so euclidean should work better than cosine and was also verified using the items matched using jaccard index\n",
        "def euclidean_distance(vec1,vec2):\n",
        "  dist = 0.0\n",
        "  for i in range(len(vec1)):\n",
        "    dist += ((vec1[i]-vec2[i])**2)\n",
        "\n",
        "  return math.sqrt(dist)\n"
      ],
      "metadata": {
        "id": "eOjbSxYBEIYZ"
      },
      "execution_count": 10,
      "outputs": []
    },
    {
      "cell_type": "code",
      "source": [
        "def manhattan_distance(vec1,vec2):\n",
        "  dist = 0.0\n",
        "  for i in range(len(vec1)):\n",
        "    dist += abs(vec1[i]-vec2[i])\n",
        "\n",
        "  return dist"
      ],
      "metadata": {
        "id": "ole2ew2amIhO"
      },
      "execution_count": 11,
      "outputs": []
    },
    {
      "cell_type": "code",
      "execution_count": 12,
      "metadata": {
        "id": "-HEHlPsSkHyi"
      },
      "outputs": [],
      "source": [
        "# here first we will find the vector of the user for whom we need to recommend images\n",
        "r = 0\n",
        "for id in user_likes.keys():\n",
        "    if id == user:\n",
        "        user_vector = mat[r]\n",
        "        break\n",
        "    r += 1\n",
        "\n",
        "lst = []\n",
        "r = 0\n",
        "for id in user_likes.keys():\n",
        "    comparison = mat[r] == user_vector\n",
        "    if not comparison.all():\n",
        "        dist = euclidean_distance(user_vector,mat[r])\n",
        "        # dist = cosine_similarity(user_vector,mat[r])\n",
        "        # dist = manhattan distance(user_vector,mat[r])\n",
        "        lst.append((dist,id))\n",
        "    r += 1\n",
        "\n",
        "lst.sort()"
      ]
    },
    {
      "cell_type": "code",
      "execution_count": 15,
      "metadata": {
        "colab": {
          "base_uri": "https://localhost:8080/"
        },
        "id": "sDK8nmV8lT0M",
        "outputId": "17e8d805-ee08-4f28-be60-b774b7f3260e"
      },
      "outputs": [
        {
          "output_type": "stream",
          "name": "stdout",
          "text": [
            "2452817\n",
            "1480429\n",
            "1525134\n",
            "148706\n",
            "1459742\n"
          ]
        }
      ],
      "source": [
        "# choosing top k elements and reporting the items and the user ids\n",
        "# writing output to output_file  \n",
        "outFile = open(config['output_file'], 'w')\n",
        "for i in range(k_value):\n",
        "    id = lst[i][1]\n",
        "    print(id)\n",
        "    for item in user_likes[id]:\n",
        "        if item not in user_likes[user]:\n",
        "            outFile.write(item + ' ' + str(id) + '\\n')\n",
        "\n",
        "outFile.close()"
      ]
    }
  ],
  "metadata": {
    "colab": {
      "collapsed_sections": [],
      "name": "SMAI_Assgn1_Q1.ipynb",
      "provenance": []
    },
    "kernelspec": {
      "display_name": "Python 3",
      "name": "python3"
    },
    "language_info": {
      "name": "python"
    }
  },
  "nbformat": 4,
  "nbformat_minor": 0
}