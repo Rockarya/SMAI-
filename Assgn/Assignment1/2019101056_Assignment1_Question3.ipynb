{
 "cells": [
  {
   "cell_type": "markdown",
   "id": "02c54141",
   "metadata": {},
   "source": [
    "## Spam Email Classifier with KNN using TF-IDF scores"
   ]
  },
  {
   "cell_type": "markdown",
   "id": "1c17102e",
   "metadata": {},
   "source": [
    "1.   Assignment must be implemented in Python 3 only.\n",
    "2.   You are allowed to use libraries for data preprocessing (numpy, pandas, nltk etc) and for evaluation metrics, data visualization (matplotlib etc.).\n",
    "3.   You will be evaluated not just on the overall performance of the model and also on the experimentation with hyper parameters, data prepossessing techniques etc.\n",
    "4.   The report file must be a well documented jupyter notebook, explaining the experiments you have performed, evaluation metrics and corresponding code. The code must run and be able to reproduce the accuracies, figures/graphs etc.\n",
    "5.   For all the questions, you must create a train-validation data split and test the hyperparameter tuning on the validation set. Your jupyter notebook must reflect the same.\n",
    "6.   Strict plagiarism checking will be done. An F will be awarded for plagiarism."
   ]
  },
  {
   "cell_type": "markdown",
   "id": "0d34a310",
   "metadata": {},
   "source": [
    "**Task: Given an email, classify it as spam or ham**\n",
    "\n",
    "Given input text file (\"emails.txt\") containing 5572 email messages, with each row having its corresponding label (spam/ham) attached to it.\n",
    "\n",
    "This task also requires basic pre-processing of text (like removing stopwords, stemming/lemmatizing, replacing email_address with 'email-tag', etc..).\n",
    "\n",
    "You are required to find the tf-idf scores for the given data and use them to perform KNN using Cosine Similarity."
   ]
  },
  {
   "cell_type": "markdown",
   "id": "b0c87696",
   "metadata": {},
   "source": [
    "### Import necessary libraries"
   ]
  },
  {
   "cell_type": "code",
   "execution_count": 1,
   "id": "3d5a1fe2",
   "metadata": {},
   "outputs": [
    {
     "name": "stderr",
     "output_type": "stream",
     "text": [
      "[nltk_data] Downloading package stopwords to /home/aryan/nltk_data...\n",
      "[nltk_data]   Package stopwords is already up-to-date!\n",
      "[nltk_data] Downloading package omw-1.4 to /home/aryan/nltk_data...\n",
      "[nltk_data]   Package omw-1.4 is already up-to-date!\n",
      "[nltk_data] Downloading package wordnet to /home/aryan/nltk_data...\n",
      "[nltk_data]   Package wordnet is already up-to-date!\n"
     ]
    },
    {
     "data": {
      "text/plain": [
       "True"
      ]
     },
     "execution_count": 1,
     "metadata": {},
     "output_type": "execute_result"
    }
   ],
   "source": [
    "import pandas as pd\n",
    "import string \n",
    "import re\n",
    "import nltk\n",
    "import math\n",
    "import matplotlib.pyplot as plt\n",
    "from sklearn.model_selection import train_test_split\n",
    "from sklearn.neighbors import KNeighborsClassifier\n",
    "from sklearn.metrics import accuracy_score, recall_score, precision_score, confusion_matrix, f1_score \n",
    "from tabulate import tabulate\n",
    "nltk.download('stopwords')\n",
    "nltk.download('omw-1.4')\n",
    "nltk.download('wordnet')"
   ]
  },
  {
   "cell_type": "markdown",
   "id": "7aef4dff",
   "metadata": {},
   "source": [
    "### Load dataset"
   ]
  },
  {
   "cell_type": "code",
   "execution_count": 2,
   "id": "f178f892",
   "metadata": {},
   "outputs": [
    {
     "name": "stdout",
     "output_type": "stream",
     "text": [
      "     label                                               text\n",
      "0      ham  Go until jurong point, crazy.. Available only ...\n",
      "1      ham                      Ok lar... Joking wif u oni...\n",
      "2     spam  Free entry in 2 a wkly comp to win FA Cup fina...\n",
      "3      ham  U dun say so early hor... U c already then say...\n",
      "4      ham  Nah I don't think he goes to usf, he lives aro...\n",
      "...    ...                                                ...\n",
      "5567  spam  This is the 2nd time we have tried 2 contact u...\n",
      "5568   ham               Will ü b going to esplanade fr home?\n",
      "5569   ham  Pity, * was in mood for that. So...any other s...\n",
      "5570   ham  The guy did some bitching but I acted like i'd...\n",
      "5571   ham                         Rofl. Its true to its name\n",
      "\n",
      "[5572 rows x 2 columns]\n"
     ]
    }
   ],
   "source": [
    "# read text file into pandas DataFrame\n",
    "df = pd.read_csv(\"emails.txt\", sep=\"\\t\", header=None, names=['label','text']) \n",
    "print(df)"
   ]
  },
  {
   "cell_type": "code",
   "execution_count": 3,
   "id": "de48e936",
   "metadata": {},
   "outputs": [
    {
     "data": {
      "text/html": [
       "<div>\n",
       "<style scoped>\n",
       "    .dataframe tbody tr th:only-of-type {\n",
       "        vertical-align: middle;\n",
       "    }\n",
       "\n",
       "    .dataframe tbody tr th {\n",
       "        vertical-align: top;\n",
       "    }\n",
       "\n",
       "    .dataframe thead th {\n",
       "        text-align: right;\n",
       "    }\n",
       "</style>\n",
       "<table border=\"1\" class=\"dataframe\">\n",
       "  <thead>\n",
       "    <tr style=\"text-align: right;\">\n",
       "      <th></th>\n",
       "      <th>label</th>\n",
       "      <th>text</th>\n",
       "    </tr>\n",
       "  </thead>\n",
       "  <tbody>\n",
       "    <tr>\n",
       "      <th>0</th>\n",
       "      <td>0</td>\n",
       "      <td>Go until jurong point, crazy.. Available only ...</td>\n",
       "    </tr>\n",
       "    <tr>\n",
       "      <th>1</th>\n",
       "      <td>0</td>\n",
       "      <td>Ok lar... Joking wif u oni...</td>\n",
       "    </tr>\n",
       "    <tr>\n",
       "      <th>2</th>\n",
       "      <td>1</td>\n",
       "      <td>Free entry in 2 a wkly comp to win FA Cup fina...</td>\n",
       "    </tr>\n",
       "    <tr>\n",
       "      <th>3</th>\n",
       "      <td>0</td>\n",
       "      <td>U dun say so early hor... U c already then say...</td>\n",
       "    </tr>\n",
       "    <tr>\n",
       "      <th>4</th>\n",
       "      <td>0</td>\n",
       "      <td>Nah I don't think he goes to usf, he lives aro...</td>\n",
       "    </tr>\n",
       "  </tbody>\n",
       "</table>\n",
       "</div>"
      ],
      "text/plain": [
       "  label                                               text\n",
       "0     0  Go until jurong point, crazy.. Available only ...\n",
       "1     0                      Ok lar... Joking wif u oni...\n",
       "2     1  Free entry in 2 a wkly comp to win FA Cup fina...\n",
       "3     0  U dun say so early hor... U c already then say...\n",
       "4     0  Nah I don't think he goes to usf, he lives aro..."
      ]
     },
     "execution_count": 3,
     "metadata": {},
     "output_type": "execute_result"
    }
   ],
   "source": [
    "# mapping ham --> 0 and spam --> 1\n",
    "for i in df.index:\n",
    "    if df['label'][i] == 'ham':\n",
    "        df['label'][i] = 0\n",
    "    else:\n",
    "        df['label'][i] = 1\n",
    "\n",
    "df.head()"
   ]
  },
  {
   "cell_type": "markdown",
   "id": "cd1ef5ba",
   "metadata": {},
   "source": [
    "### Preprocess data"
   ]
  },
  {
   "cell_type": "code",
   "execution_count": 4,
   "id": "0da397c4",
   "metadata": {},
   "outputs": [
    {
     "data": {
      "text/html": [
       "<div>\n",
       "<style scoped>\n",
       "    .dataframe tbody tr th:only-of-type {\n",
       "        vertical-align: middle;\n",
       "    }\n",
       "\n",
       "    .dataframe tbody tr th {\n",
       "        vertical-align: top;\n",
       "    }\n",
       "\n",
       "    .dataframe thead th {\n",
       "        text-align: right;\n",
       "    }\n",
       "</style>\n",
       "<table border=\"1\" class=\"dataframe\">\n",
       "  <thead>\n",
       "    <tr style=\"text-align: right;\">\n",
       "      <th></th>\n",
       "      <th>label</th>\n",
       "      <th>text</th>\n",
       "      <th>token</th>\n",
       "    </tr>\n",
       "  </thead>\n",
       "  <tbody>\n",
       "    <tr>\n",
       "      <th>0</th>\n",
       "      <td>0</td>\n",
       "      <td>Go until jurong point, crazy.. Available only ...</td>\n",
       "      <td>[go, jurong, point, crazy, available, bugis, g...</td>\n",
       "    </tr>\n",
       "    <tr>\n",
       "      <th>1</th>\n",
       "      <td>0</td>\n",
       "      <td>Ok lar... Joking wif u oni...</td>\n",
       "      <td>[ok, lar, joking, wif, oni]</td>\n",
       "    </tr>\n",
       "    <tr>\n",
       "      <th>2</th>\n",
       "      <td>1</td>\n",
       "      <td>Free entry in 2 a wkly comp to win FA Cup fina...</td>\n",
       "      <td>[free, entry, wkly, comp, win, fa, cup, final,...</td>\n",
       "    </tr>\n",
       "    <tr>\n",
       "      <th>3</th>\n",
       "      <td>0</td>\n",
       "      <td>U dun say so early hor... U c already then say...</td>\n",
       "      <td>[dun, say, early, hor, already, say]</td>\n",
       "    </tr>\n",
       "    <tr>\n",
       "      <th>4</th>\n",
       "      <td>0</td>\n",
       "      <td>Nah I don't think he goes to usf, he lives aro...</td>\n",
       "      <td>[nah, dont, think, go, usf, life, around, though]</td>\n",
       "    </tr>\n",
       "  </tbody>\n",
       "</table>\n",
       "</div>"
      ],
      "text/plain": [
       "  label                                               text  \\\n",
       "0     0  Go until jurong point, crazy.. Available only ...   \n",
       "1     0                      Ok lar... Joking wif u oni...   \n",
       "2     1  Free entry in 2 a wkly comp to win FA Cup fina...   \n",
       "3     0  U dun say so early hor... U c already then say...   \n",
       "4     0  Nah I don't think he goes to usf, he lives aro...   \n",
       "\n",
       "                                               token  \n",
       "0  [go, jurong, point, crazy, available, bugis, g...  \n",
       "1                        [ok, lar, joking, wif, oni]  \n",
       "2  [free, entry, wkly, comp, win, fa, cup, final,...  \n",
       "3               [dun, say, early, hor, already, say]  \n",
       "4  [nah, dont, think, go, usf, life, around, though]  "
      ]
     },
     "execution_count": 4,
     "metadata": {},
     "output_type": "execute_result"
    }
   ],
   "source": [
    "df['token'] = ''\n",
    "all_words = set()\n",
    "stopwords = nltk.corpus.stopwords.words('english')\n",
    "wordlem=nltk.WordNetLemmatizer()\n",
    "for i in df.index:\n",
    "    letter_list = []\n",
    "    for j in range(len(df['text'][i])):\n",
    "        letter = df['text'][i][j]\n",
    "        if letter not in string.punctuation:\n",
    "            letter_list.append(letter)\n",
    "\n",
    "    text = \"\".join(letter_list)\n",
    "    text = text.lower()\n",
    "    text=re.sub(r'http\\S+', 'website_link',text)\n",
    "    text=re.sub(r\"\\S*@\\S*\\s?\", 'email-tag',text)\n",
    "    text = re.sub(re.compile('\\W'), ' ', text)\n",
    "\n",
    "    text = text.split()\n",
    "    clean_text = []\n",
    "    for j in range(len(text)):\n",
    "        if text[j] not in stopwords and text[j].isalpha() and len(text[j])>1:   #the word should not be a stop word and should only contains alphabets and single letter words doesn't add any sense\n",
    "            final_token = wordlem.lemmatize(text[j])\n",
    "            clean_text.append(final_token)\n",
    "            all_words.add(final_token)\n",
    "\n",
    "    df['token'][i] = clean_text\n",
    "\n",
    "df.head()"
   ]
  },
  {
   "cell_type": "code",
   "execution_count": 5,
   "id": "4d2d767a",
   "metadata": {},
   "outputs": [
    {
     "data": {
      "text/html": [
       "<div>\n",
       "<style scoped>\n",
       "    .dataframe tbody tr th:only-of-type {\n",
       "        vertical-align: middle;\n",
       "    }\n",
       "\n",
       "    .dataframe tbody tr th {\n",
       "        vertical-align: top;\n",
       "    }\n",
       "\n",
       "    .dataframe thead th {\n",
       "        text-align: right;\n",
       "    }\n",
       "</style>\n",
       "<table border=\"1\" class=\"dataframe\">\n",
       "  <thead>\n",
       "    <tr style=\"text-align: right;\">\n",
       "      <th></th>\n",
       "      <th>label</th>\n",
       "      <th>text</th>\n",
       "      <th>token</th>\n",
       "      <th>tf-idf</th>\n",
       "      <th>vector</th>\n",
       "    </tr>\n",
       "  </thead>\n",
       "  <tbody>\n",
       "    <tr>\n",
       "      <th>0</th>\n",
       "      <td>0</td>\n",
       "      <td>Go until jurong point, crazy.. Available only ...</td>\n",
       "      <td>[go, jurong, point, crazy, available, bugis, g...</td>\n",
       "      <td>{'world': 3.534460621103632, 'jurong': 5.97874...</td>\n",
       "      <td>[0.0, 0.0, 0.0, 0.0, 0.0, 0.0, 0.0, 0.0, 0.0, ...</td>\n",
       "    </tr>\n",
       "    <tr>\n",
       "      <th>1</th>\n",
       "      <td>0</td>\n",
       "      <td>Ok lar... Joking wif u oni...</td>\n",
       "      <td>[ok, lar, joking, wif, oni]</td>\n",
       "      <td>{'joking': 4.7367944520422025, 'lar': 3.475849...</td>\n",
       "      <td>[0.0, 0.0, 0.0, 0.0, 0.0, 0.0, 0.0, 0.0, 0.0, ...</td>\n",
       "    </tr>\n",
       "    <tr>\n",
       "      <th>2</th>\n",
       "      <td>1</td>\n",
       "      <td>Free entry in 2 a wkly comp to win FA Cup fina...</td>\n",
       "      <td>[free, entry, wkly, comp, win, fa, cup, final,...</td>\n",
       "      <td>{'fa': 8.714590540923492, 'cup': 4.45574745554...</td>\n",
       "      <td>[8.714590540923492, 0.0, 0.0, 0.0, 0.0, 0.0, 0...</td>\n",
       "    </tr>\n",
       "    <tr>\n",
       "      <th>3</th>\n",
       "      <td>0</td>\n",
       "      <td>U dun say so early hor... U c already then say...</td>\n",
       "      <td>[dun, say, early, hor, already, say]</td>\n",
       "      <td>{'early': 3.598488927511406, 'say': 4.28252420...</td>\n",
       "      <td>[0.0, 0.0, 0.0, 0.0, 0.0, 0.0, 0.0, 0.0, 0.0, ...</td>\n",
       "    </tr>\n",
       "    <tr>\n",
       "      <th>4</th>\n",
       "      <td>0</td>\n",
       "      <td>Nah I don't think he goes to usf, he lives aro...</td>\n",
       "      <td>[nah, dont, think, go, usf, life, around, though]</td>\n",
       "      <td>{'nah': 4.382717111171031, 'usf': 4.3166531287...</td>\n",
       "      <td>[0.0, 0.0, 0.0, 0.0, 0.0, 0.0, 0.0, 0.0, 0.0, ...</td>\n",
       "    </tr>\n",
       "  </tbody>\n",
       "</table>\n",
       "</div>"
      ],
      "text/plain": [
       "  label                                               text  \\\n",
       "0     0  Go until jurong point, crazy.. Available only ...   \n",
       "1     0                      Ok lar... Joking wif u oni...   \n",
       "2     1  Free entry in 2 a wkly comp to win FA Cup fina...   \n",
       "3     0  U dun say so early hor... U c already then say...   \n",
       "4     0  Nah I don't think he goes to usf, he lives aro...   \n",
       "\n",
       "                                               token  \\\n",
       "0  [go, jurong, point, crazy, available, bugis, g...   \n",
       "1                        [ok, lar, joking, wif, oni]   \n",
       "2  [free, entry, wkly, comp, win, fa, cup, final,...   \n",
       "3               [dun, say, early, hor, already, say]   \n",
       "4  [nah, dont, think, go, usf, life, around, though]   \n",
       "\n",
       "                                              tf-idf  \\\n",
       "0  {'world': 3.534460621103632, 'jurong': 5.97874...   \n",
       "1  {'joking': 4.7367944520422025, 'lar': 3.475849...   \n",
       "2  {'fa': 8.714590540923492, 'cup': 4.45574745554...   \n",
       "3  {'early': 3.598488927511406, 'say': 4.28252420...   \n",
       "4  {'nah': 4.382717111171031, 'usf': 4.3166531287...   \n",
       "\n",
       "                                              vector  \n",
       "0  [0.0, 0.0, 0.0, 0.0, 0.0, 0.0, 0.0, 0.0, 0.0, ...  \n",
       "1  [0.0, 0.0, 0.0, 0.0, 0.0, 0.0, 0.0, 0.0, 0.0, ...  \n",
       "2  [8.714590540923492, 0.0, 0.0, 0.0, 0.0, 0.0, 0...  \n",
       "3  [0.0, 0.0, 0.0, 0.0, 0.0, 0.0, 0.0, 0.0, 0.0, ...  \n",
       "4  [0.0, 0.0, 0.0, 0.0, 0.0, 0.0, 0.0, 0.0, 0.0, ...  "
      ]
     },
     "execution_count": 5,
     "metadata": {},
     "output_type": "execute_result"
    }
   ],
   "source": [
    "# calculating tf idf and creating vectors for each email  \n",
    "idf = {}\n",
    "for i in df.index:\n",
    "    for token in df['token'][i]:\n",
    "        idf[token] = 0\n",
    "\n",
    "for i in df.index:\n",
    "    tokens_encountered = set()\n",
    "    for token in df['token'][i]:\n",
    "        if token not in tokens_encountered:\n",
    "            idf[token] += 1\n",
    "        tokens_encountered.add(token)\n",
    "\n",
    "total_docs = len(df)\n",
    "df['tf-idf'] = ''\n",
    "df['vector'] = ''\n",
    "\n",
    "for i in df.index:\n",
    "    tf = {}\n",
    "    words = set()\n",
    "    for token in df['token'][i]:\n",
    "        tf[token] = 0\n",
    "        words.add(token)\n",
    "\n",
    "    for token in df['token'][i]:\n",
    "        tf[token] += 1\n",
    "\n",
    "    tf_idf = {}\n",
    "    for token in words:\n",
    "        tf_idf[token] = (math.log(1+tf[token])*math.log(total_docs/idf[token]))\n",
    "    \n",
    "    df['tf-idf'][i] = tf_idf\n",
    "\n",
    "    # creating vectors\n",
    "    vec = []\n",
    "    for token in all_words:\n",
    "        if token in words:\n",
    "            vec.append(tf_idf[token])\n",
    "        else:\n",
    "            vec.append(0.0)\n",
    "\n",
    "    df['vector'][i] = vec\n",
    "\n",
    "df.head()"
   ]
  },
  {
   "cell_type": "markdown",
   "id": "f76767a7",
   "metadata": {},
   "source": [
    "### Split data"
   ]
  },
  {
   "cell_type": "code",
   "execution_count": 6,
   "id": "f75e6cd2",
   "metadata": {},
   "outputs": [],
   "source": [
    "# splitting the data into train(80%) valid(10%) and test(10%)   --> using random state=42 by which both spam and ham emails will get distributed proportionately in the train-valid-test dataset \n",
    "x = df['tf-idf']\n",
    "y = df['label']\n",
    "\n",
    "x_train, x_rem, y_train, y_rem = train_test_split(x,y, train_size=0.8,random_state=42)\n",
    "x_valid, x_test, y_valid, y_test = train_test_split(x_rem,y_rem, test_size=0.5,random_state=42)"
   ]
  },
  {
   "cell_type": "markdown",
   "id": "363ebaad",
   "metadata": {},
   "source": [
    "### Cosine Similarity"
   ]
  },
  {
   "cell_type": "code",
   "execution_count": 31,
   "id": "27e53151",
   "metadata": {},
   "outputs": [],
   "source": [
    "# in our fxn, we are sorting the list in ascending order of the distances to choose top k mails. But cosine similarity works opposite, because lesser the value, lesser the \n",
    "# similarity. So we are changing it to (1-cos**2)^0.5, so that the generality of fxn continues.\n",
    "def cosine_similarity(dict1, dict2):\n",
    "    cos_sim = 0.0\n",
    "    numerator = 0.0\n",
    "    for token in dict1.keys():\n",
    "        if token in dict2.keys(): \n",
    "            numerator += (dict1[token]*dict2[token])\n",
    "\n",
    "    sq1 = 0.0\n",
    "    for token in dict1.keys():\n",
    "        sq1 += (dict1[token])**2\n",
    "\n",
    "    sq2 = 0.0\n",
    "    for token in dict2.keys():\n",
    "        sq2 += (dict2[token])**2\n",
    "\n",
    "    denominator = (math.sqrt(sq1)*math.sqrt(sq2))\n",
    "\n",
    "    if denominator == 0.0:\n",
    "         cos_sim = 0.0\n",
    "    else:\n",
    "        cos_sim =  numerator/denominator\n",
    "\n",
    "    sin_sim = 1.0 - (cos_sim**2)\n",
    "    # by doing 1-cos2, it may become -ve...but it would be too small, that it can be approximated to be 0.0\n",
    "    if sin_sim < 0.0:\n",
    "        sin_sim = 0.0\n",
    "    sin_sim = (sin_sim**(0.5))\n",
    "    return sin_sim"
   ]
  },
  {
   "cell_type": "markdown",
   "id": "7d793a2b",
   "metadata": {},
   "source": [
    "### Euclidean Distance"
   ]
  },
  {
   "cell_type": "code",
   "execution_count": 8,
   "id": "287361ca",
   "metadata": {},
   "outputs": [],
   "source": [
    "def euclidean_distance(dict1, dict2):\n",
    "    dist = 0.0\n",
    "    for token in dict1.keys():\n",
    "        if token in dict2.keys(): \n",
    "            dist += (dict1[token] - dict2[token])**2\n",
    "        else:\n",
    "            dist += (dict1[token])**2\n",
    "\n",
    "    for token in dict2.keys():\n",
    "        if token not in dict1.keys():\n",
    "            dist += (dict2[token])**2\n",
    "\n",
    "    return math.sqrt(dist)"
   ]
  },
  {
   "cell_type": "markdown",
   "id": "99ca114b",
   "metadata": {},
   "source": [
    "### Manhattan Distance"
   ]
  },
  {
   "cell_type": "code",
   "execution_count": 9,
   "id": "b3e4a930",
   "metadata": {},
   "outputs": [],
   "source": [
    "def manhattan_distance(dict1, dict2):\n",
    "    dist = 0.0\n",
    "    for token in dict1.keys():\n",
    "        if token in dict2.keys(): \n",
    "            dist += abs(dict1[token] - dict2[token])\n",
    "        else:\n",
    "            dist += abs(dict1[token])\n",
    "\n",
    "    for token in dict2.keys():\n",
    "        if token not in dict1.keys():\n",
    "            dist += abs(dict2[token])\n",
    "\n",
    "    return dist"
   ]
  },
  {
   "cell_type": "code",
   "execution_count": 10,
   "id": "87b8db5f",
   "metadata": {},
   "outputs": [],
   "source": [
    "# the different k values we need to use \n",
    "k_values = [1,3,5,7,11,17,23,28]"
   ]
  },
  {
   "cell_type": "code",
   "execution_count": 33,
   "id": "ac53431c",
   "metadata": {},
   "outputs": [],
   "source": [
    "def fxn(x_train,y_train,x_test,y_test,k_values,distance_metric):\n",
    "    \n",
    "    true_positive = {}    #when mail is spam, we are considering it to be true +ve\n",
    "    true_negative = {}\n",
    "    false_positive = {}\n",
    "    false_negative = {}\n",
    "    for k in k_values:\n",
    "        true_positive[k] = 0\n",
    "        true_negative[k] = 0\n",
    "        false_positive[k] = 0\n",
    "        false_negative[k] = 0\n",
    "\n",
    "    for key in x_test.keys():\n",
    "        actual_label = y_test[key]\n",
    "        lst = []\n",
    "        for it in x_train.keys():\n",
    "            lst.append((distance_metric(x_test[key],x_train[it]),it))\n",
    "\n",
    "        lst.sort()\n",
    "\n",
    "        for k in k_values:\n",
    "            ham_count = 0\n",
    "            spam_count = 0\n",
    "            for i in range(k):\n",
    "                it = lst[i][1]\n",
    "                if y_train[it] == 0:\n",
    "                    ham_count += 1\n",
    "                else:\n",
    "                    spam_count += 1\n",
    "\n",
    "            if ham_count > spam_count:\n",
    "                predicted_label = 0\n",
    "            else:\n",
    "                predicted_label = 1\n",
    "\n",
    "            if predicted_label == 1 and actual_label == 1:\n",
    "                true_positive[k] += 1\n",
    "            elif predicted_label == 1 and actual_label == 0:\n",
    "                false_positive[k] += 1\n",
    "            elif predicted_label == 0 and actual_label == 1:\n",
    "                false_negative[k] += 1\n",
    "            else:\n",
    "                true_negative[k] += 1\n",
    "\n",
    "    # storing results \n",
    "    accuracy = {}\n",
    "    precision = {}\n",
    "    recall = {}\n",
    "    f1_score = {}\n",
    "    confusion_matrix = {}\n",
    "    for k in k_values:\n",
    "        accuracy[k] = ((true_positive[k]+true_negative[k])/(true_positive[k]+true_negative[k]+false_positive[k]+false_negative[k]))\n",
    "        precision[k] = ((true_positive[k])/(true_positive[k]+false_positive[k]))\n",
    "        recall[k] = ((true_positive[k])/(true_positive[k]+false_negative[k]))\n",
    "        f1_score[k] = ((2*true_positive[k])/(2*true_positive[k]+false_positive[k]+false_negative[k]))\n",
    "        confusion_matrix[k] = [[true_negative[k],false_positive[k]],[false_negative[k],true_positive[k]]]\n",
    "\n",
    "    return accuracy,precision,recall,f1_score,confusion_matrix"
   ]
  },
  {
   "cell_type": "markdown",
   "id": "61a7bbac",
   "metadata": {},
   "source": [
    "### Why accuracy alone is not sufficient to evaluate the model? Why we need precision/recall/f1-score? \n",
    "\n",
    "Explanation: For a classification problem, if a dataset is given which has uneven distribution of classes, accuracy is not always a good measure, because accuracy can shoot up too high if there are more number of True Positives/True Negatives in the sample. In calculating the accuracy, we are not concerned much about the False Positives and False Negatives(which is clear from the formula) which can have high buisness costs! \n",
    "\n",
    "So if a high cost is associated with False Positives, then Precision is a good measure.\n",
    "\n",
    "If the high cost is associated with False Negatives, then Recall is a good measure.\n",
    "\n",
    "Whereas, if we want a balance between the number of False Positives and False Negatives, then F1 score is a good measure.\n",
    "\n",
    "Accuracy works well with data having uniform distribution of classes."
   ]
  },
  {
   "cell_type": "markdown",
   "id": "260719db",
   "metadata": {},
   "source": [
    "As we want to reduce both the number of False Positives and False Negatives, so we will use F1 score as a measure. "
   ]
  },
  {
   "cell_type": "code",
   "execution_count": 34,
   "id": "4fe8317d",
   "metadata": {},
   "outputs": [
    {
     "name": "stdout",
     "output_type": "stream",
     "text": [
      "KNN results using Cosine Similarity on Validation Dataset\n",
      "+-----+------------+-------------+----------+------------+----------------------+\n",
      "|   K |   Accuracy |   Precision |   Recall |   F1 Score | Confusion Matrix     |\n",
      "+=====+============+=============+==========+============+======================+\n",
      "|   1 |   0.969479 |    0.966102 | 0.791667 |   0.870229 | [[483, 2], [15, 57]] |\n",
      "+-----+------------+-------------+----------+------------+----------------------+\n",
      "|   3 |   0.967684 |    0.982143 | 0.763889 |   0.859375 | [[484, 1], [17, 55]] |\n",
      "+-----+------------+-------------+----------+------------+----------------------+\n",
      "|   5 |   0.960503 |    1        | 0.694444 |   0.819672 | [[485, 0], [22, 50]] |\n",
      "+-----+------------+-------------+----------+------------+----------------------+\n",
      "|   7 |   0.964093 |    1        | 0.722222 |   0.83871  | [[485, 0], [20, 52]] |\n",
      "+-----+------------+-------------+----------+------------+----------------------+\n",
      "|  11 |   0.964093 |    0.981481 | 0.736111 |   0.84127  | [[484, 1], [19, 53]] |\n",
      "+-----+------------+-------------+----------+------------+----------------------+\n",
      "|  17 |   0.958707 |    1        | 0.680556 |   0.809917 | [[485, 0], [23, 49]] |\n",
      "+-----+------------+-------------+----------+------------+----------------------+\n",
      "|  23 |   0.951526 |    1        | 0.625    |   0.769231 | [[485, 0], [27, 45]] |\n",
      "+-----+------------+-------------+----------+------------+----------------------+\n",
      "|  28 |   0.951526 |    1        | 0.625    |   0.769231 | [[485, 0], [27, 45]] |\n",
      "+-----+------------+-------------+----------+------------+----------------------+\n"
     ]
    }
   ],
   "source": [
    "print('KNN results using Cosine Similarity on Validation Dataset')\n",
    "accuracy,precision,recall,f1_score,confusion_matrix = fxn(x_train, y_train, x_valid, y_valid, k_values, cosine_similarity)\n",
    "\n",
    "data = []\n",
    "for k in k_values:\n",
    "    data.append([k,accuracy[k],precision[k],recall[k],f1_score[k],confusion_matrix[k]])\n",
    "\n",
    "head = ['K', 'Accuracy', 'Precision', 'Recall', 'F1 Score', 'Confusion Matrix']\n",
    "print(tabulate(data, headers=head, tablefmt=\"grid\"))"
   ]
  },
  {
   "cell_type": "markdown",
   "id": "3c2c8161",
   "metadata": {},
   "source": [
    "The best results are produced at k=1, so we should use k=1 for our test data."
   ]
  },
  {
   "cell_type": "code",
   "execution_count": 13,
   "id": "f404d108",
   "metadata": {},
   "outputs": [
    {
     "name": "stdout",
     "output_type": "stream",
     "text": [
      "KNN results using Cosine Similarity on Test Dataset\n",
      "+-----+------------+-------------+----------+------------+----------------------+\n",
      "|   K |   Accuracy |   Precision |   Recall |   F1 Score | Confusion Matrix     |\n",
      "+=====+============+=============+==========+============+======================+\n",
      "|   1 |   0.982079 |    0.971831 | 0.896104 |   0.932432 | [[479, 2], [8, 69]]  |\n",
      "+-----+------------+-------------+----------+------------+----------------------+\n",
      "|   3 |   0.980287 |    0.985294 | 0.87013  |   0.924138 | [[480, 1], [10, 67]] |\n",
      "+-----+------------+-------------+----------+------------+----------------------+\n",
      "|   5 |   0.978495 |    1        | 0.844156 |   0.915493 | [[481, 0], [12, 65]] |\n",
      "+-----+------------+-------------+----------+------------+----------------------+\n",
      "|   7 |   0.971326 |    0.984127 | 0.805195 |   0.885714 | [[480, 1], [15, 62]] |\n",
      "+-----+------------+-------------+----------+------------+----------------------+\n",
      "|  11 |   0.969534 |    1        | 0.779221 |   0.875912 | [[481, 0], [17, 60]] |\n",
      "+-----+------------+-------------+----------+------------+----------------------+\n",
      "|  17 |   0.958781 |    0.965517 | 0.727273 |   0.82963  | [[479, 2], [21, 56]] |\n",
      "+-----+------------+-------------+----------+------------+----------------------+\n",
      "|  23 |   0.955197 |    0.964286 | 0.701299 |   0.81203  | [[479, 2], [23, 54]] |\n",
      "+-----+------------+-------------+----------+------------+----------------------+\n",
      "|  28 |   0.956989 |    0.949153 | 0.727273 |   0.823529 | [[478, 3], [21, 56]] |\n",
      "+-----+------------+-------------+----------+------------+----------------------+\n"
     ]
    }
   ],
   "source": [
    "print('KNN results using Cosine Similarity on Test Dataset')\n",
    "accuracy,precision,recall,f1_score,confusion_matrix = fxn(x_train, y_train, x_test, y_test, k_values, cosine_similarity)\n",
    "\n",
    "data = []\n",
    "for k in k_values:\n",
    "    data.append([k,accuracy[k],precision[k],recall[k],f1_score[k],confusion_matrix[k]])\n",
    "\n",
    "head = ['K', 'Accuracy', 'Precision', 'Recall', 'F1 Score', 'Confusion Matrix']\n",
    "print(tabulate(data, headers=head, tablefmt=\"grid\"))"
   ]
  },
  {
   "cell_type": "markdown",
   "id": "a4635666",
   "metadata": {},
   "source": [
    "As earlier predicted that we should use k=1 for test dataset. So here also on test dataset best results occured on k=1"
   ]
  },
  {
   "cell_type": "markdown",
   "id": "7b8fe5c3",
   "metadata": {},
   "source": [
    "***4. Choose different K values (k=1,3,5,7,11,17,23,28) and experiment. Plot a graph showing F1 score vs k.***"
   ]
  },
  {
   "cell_type": "code",
   "execution_count": 14,
   "id": "e96a3b1a",
   "metadata": {},
   "outputs": [
    {
     "data": {
      "image/png": "[encoded data removed]",
      "text/plain": [
       "<Figure size 432x288 with 1 Axes>"
      ]
     },
     "metadata": {
      "needs_background": "light"
     },
     "output_type": "display_data"
    }
   ],
   "source": [
    "f1 = []\n",
    "for k in k_values:\n",
    "    f1.append(f1_score[k])\n",
    "\n",
    "plt.plot(k_values, f1)\n",
    "plt.xlabel('Values of K')\n",
    "plt.ylabel('F1 score')\n",
    "plt.title('F1 score vs K using Cosine Similarity')\n",
    "plt.show()"
   ]
  },
  {
   "cell_type": "code",
   "execution_count": 15,
   "id": "a2171159",
   "metadata": {},
   "outputs": [
    {
     "name": "stdout",
     "output_type": "stream",
     "text": [
      "KNN results using Euclidean Distance on Validation Dataset\n",
      "+-----+------------+-------------+-----------+------------+----------------------+\n",
      "|   K |   Accuracy |   Precision |    Recall |   F1 Score | Confusion Matrix     |\n",
      "+=====+============+=============+===========+============+======================+\n",
      "|   1 |   0.949731 |    0.978261 | 0.625     |  0.762712  | [[484, 1], [27, 45]] |\n",
      "+-----+------------+-------------+-----------+------------+----------------------+\n",
      "|   3 |   0.931777 |    0.972222 | 0.486111  |  0.648148  | [[484, 1], [37, 35]] |\n",
      "+-----+------------+-------------+-----------+------------+----------------------+\n",
      "|   5 |   0.917415 |    1        | 0.361111  |  0.530612  | [[485, 0], [46, 26]] |\n",
      "+-----+------------+-------------+-----------+------------+----------------------+\n",
      "|   7 |   0.903052 |    1        | 0.25      |  0.4       | [[485, 0], [54, 18]] |\n",
      "+-----+------------+-------------+-----------+------------+----------------------+\n",
      "|  11 |   0.888689 |    1        | 0.138889  |  0.243902  | [[485, 0], [62, 10]] |\n",
      "+-----+------------+-------------+-----------+------------+----------------------+\n",
      "|  17 |   0.881508 |    1        | 0.0833333 |  0.153846  | [[485, 0], [66, 6]]  |\n",
      "+-----+------------+-------------+-----------+------------+----------------------+\n",
      "|  23 |   0.877917 |    1        | 0.0555556 |  0.105263  | [[485, 0], [68, 4]]  |\n",
      "+-----+------------+-------------+-----------+------------+----------------------+\n",
      "|  28 |   0.872531 |    1        | 0.0138889 |  0.0273973 | [[485, 0], [71, 1]]  |\n",
      "+-----+------------+-------------+-----------+------------+----------------------+\n"
     ]
    }
   ],
   "source": [
    "print('KNN results using Euclidean Distance on Validation Dataset')\n",
    "accuracy,precision,recall,f1_score,confusion_matrix = fxn(x_train, y_train, x_valid, y_valid, k_values, euclidean_distance)\n",
    "\n",
    "data = []\n",
    "for k in k_values:\n",
    "    data.append([k,accuracy[k],precision[k],recall[k],f1_score[k],confusion_matrix[k]])\n",
    "\n",
    "head = ['K', 'Accuracy', 'Precision', 'Recall', 'F1 Score', 'Confusion Matrix']\n",
    "print(tabulate(data, headers=head, tablefmt=\"grid\"))"
   ]
  },
  {
   "cell_type": "markdown",
   "id": "8c675013",
   "metadata": {},
   "source": [
    "The best results are produced at k=1, so we should use k=1 for our test data."
   ]
  },
  {
   "cell_type": "code",
   "execution_count": 16,
   "id": "734057e0",
   "metadata": {},
   "outputs": [
    {
     "name": "stdout",
     "output_type": "stream",
     "text": [
      "KNN results using Euclidean Distance on Test Dataset\n",
      "+-----+------------+-------------+-----------+------------+----------------------+\n",
      "|   K |   Accuracy |   Precision |    Recall |   F1 Score | Confusion Matrix     |\n",
      "+=====+============+=============+===========+============+======================+\n",
      "|   1 |   0.960573 |    1        | 0.714286  |   0.833333 | [[481, 0], [22, 55]] |\n",
      "+-----+------------+-------------+-----------+------------+----------------------+\n",
      "|   3 |   0.935484 |    0.976744 | 0.545455  |   0.7      | [[480, 1], [35, 42]] |\n",
      "+-----+------------+-------------+-----------+------------+----------------------+\n",
      "|   5 |   0.928315 |    1        | 0.480519  |   0.649123 | [[481, 0], [40, 37]] |\n",
      "+-----+------------+-------------+-----------+------------+----------------------+\n",
      "|   7 |   0.917563 |    1        | 0.402597  |   0.574074 | [[481, 0], [46, 31]] |\n",
      "+-----+------------+-------------+-----------+------------+----------------------+\n",
      "|  11 |   0.899642 |    1        | 0.272727  |   0.428571 | [[481, 0], [56, 21]] |\n",
      "+-----+------------+-------------+-----------+------------+----------------------+\n",
      "|  17 |   0.878136 |    1        | 0.116883  |   0.209302 | [[481, 0], [68, 9]]  |\n",
      "+-----+------------+-------------+-----------+------------+----------------------+\n",
      "|  23 |   0.870968 |    1        | 0.0649351 |   0.121951 | [[481, 0], [72, 5]]  |\n",
      "+-----+------------+-------------+-----------+------------+----------------------+\n",
      "|  28 |   0.867384 |    1        | 0.038961  |   0.075    | [[481, 0], [74, 3]]  |\n",
      "+-----+------------+-------------+-----------+------------+----------------------+\n"
     ]
    }
   ],
   "source": [
    "print('KNN results using Euclidean Distance on Test Dataset')\n",
    "accuracy,precision,recall,f1_score,confusion_matrix = fxn(x_train, y_train, x_test, y_test, k_values, euclidean_distance)\n",
    "\n",
    "data = []\n",
    "for k in k_values:\n",
    "    data.append([k,accuracy[k],precision[k],recall[k],f1_score[k],confusion_matrix[k]])\n",
    "\n",
    "head = ['K', 'Accuracy', 'Precision', 'Recall', 'F1 Score', 'Confusion Matrix']\n",
    "print(tabulate(data, headers=head, tablefmt=\"grid\"))"
   ]
  },
  {
   "cell_type": "markdown",
   "id": "751e2fd9",
   "metadata": {},
   "source": [
    "As earlier predicted that we should use k=1 for test dataset. So here also on test dataset best results occured on k=1"
   ]
  },
  {
   "cell_type": "code",
   "execution_count": 17,
   "id": "025effe0",
   "metadata": {},
   "outputs": [
    {
     "data": {
      "image/png": "[encoded data removed]",
      "text/plain": [
       "<Figure size 432x288 with 1 Axes>"
      ]
     },
     "metadata": {
      "needs_background": "light"
     },
     "output_type": "display_data"
    }
   ],
   "source": [
    "f1 = []\n",
    "for k in k_values:\n",
    "    f1.append(f1_score[k])\n",
    "\n",
    "plt.plot(k_values, f1)\n",
    "plt.xlabel('Values of K')\n",
    "plt.ylabel('F1 score')\n",
    "plt.title('F1 score vs K using Euclidean Distance')\n",
    "plt.show()"
   ]
  },
  {
   "cell_type": "code",
   "execution_count": 18,
   "id": "a7d7ca5c",
   "metadata": {},
   "outputs": [
    {
     "name": "stdout",
     "output_type": "stream",
     "text": [
      "KNN results using Manhattan Distance on Validation Dataset\n",
      "+-----+------------+-------------+-----------+------------+----------------------+\n",
      "|   K |   Accuracy |   Precision |    Recall |   F1 Score | Confusion Matrix     |\n",
      "+=====+============+=============+===========+============+======================+\n",
      "|   1 |   0.949731 |    0.958333 | 0.638889  |  0.766667  | [[483, 2], [26, 46]] |\n",
      "+-----+------------+-------------+-----------+------------+----------------------+\n",
      "|   3 |   0.933573 |    1        | 0.486111  |  0.654206  | [[485, 0], [37, 35]] |\n",
      "+-----+------------+-------------+-----------+------------+----------------------+\n",
      "|   5 |   0.917415 |    1        | 0.361111  |  0.530612  | [[485, 0], [46, 26]] |\n",
      "+-----+------------+-------------+-----------+------------+----------------------+\n",
      "|   7 |   0.908438 |    1        | 0.291667  |  0.451613  | [[485, 0], [51, 21]] |\n",
      "+-----+------------+-------------+-----------+------------+----------------------+\n",
      "|  11 |   0.897666 |    1        | 0.208333  |  0.344828  | [[485, 0], [57, 15]] |\n",
      "+-----+------------+-------------+-----------+------------+----------------------+\n",
      "|  17 |   0.881508 |    1        | 0.0833333 |  0.153846  | [[485, 0], [66, 6]]  |\n",
      "+-----+------------+-------------+-----------+------------+----------------------+\n",
      "|  23 |   0.879713 |    1        | 0.0694444 |  0.12987   | [[485, 0], [67, 5]]  |\n",
      "+-----+------------+-------------+-----------+------------+----------------------+\n",
      "|  28 |   0.872531 |    1        | 0.0138889 |  0.0273973 | [[485, 0], [71, 1]]  |\n",
      "+-----+------------+-------------+-----------+------------+----------------------+\n"
     ]
    }
   ],
   "source": [
    "print('KNN results using Manhattan Distance on Validation Dataset')\n",
    "accuracy,precision,recall,f1_score,confusion_matrix = fxn(x_train, y_train, x_valid, y_valid, k_values, manhattan_distance)\n",
    "\n",
    "data = []\n",
    "for k in k_values:\n",
    "    data.append([k,accuracy[k],precision[k],recall[k],f1_score[k],confusion_matrix[k]])\n",
    "\n",
    "head = ['K', 'Accuracy', 'Precision', 'Recall', 'F1 Score', 'Confusion Matrix']\n",
    "print(tabulate(data, headers=head, tablefmt=\"grid\"))"
   ]
  },
  {
   "cell_type": "markdown",
   "id": "6f519d53",
   "metadata": {},
   "source": [
    "The best results are produced at k=1, so we should use k=1 for our test data."
   ]
  },
  {
   "cell_type": "code",
   "execution_count": 19,
   "id": "3d068e3d",
   "metadata": {},
   "outputs": [
    {
     "name": "stdout",
     "output_type": "stream",
     "text": [
      "KNN results using Manhattan Distance on Test Dataset\n",
      "+-----+------------+-------------+-----------+------------+----------------------+\n",
      "|   K |   Accuracy |   Precision |    Recall |   F1 Score | Confusion Matrix     |\n",
      "+=====+============+=============+===========+============+======================+\n",
      "|   1 |   0.962366 |    1        | 0.727273  |   0.842105 | [[481, 0], [21, 56]] |\n",
      "+-----+------------+-------------+-----------+------------+----------------------+\n",
      "|   3 |   0.939068 |    0.977778 | 0.571429  |   0.721311 | [[480, 1], [33, 44]] |\n",
      "+-----+------------+-------------+-----------+------------+----------------------+\n",
      "|   5 |   0.9319   |    1        | 0.506494  |   0.672414 | [[481, 0], [38, 39]] |\n",
      "+-----+------------+-------------+-----------+------------+----------------------+\n",
      "|   7 |   0.921147 |    1        | 0.428571  |   0.6      | [[481, 0], [44, 33]] |\n",
      "+-----+------------+-------------+-----------+------------+----------------------+\n",
      "|  11 |   0.908602 |    1        | 0.337662  |   0.504854 | [[481, 0], [51, 26]] |\n",
      "+-----+------------+-------------+-----------+------------+----------------------+\n",
      "|  17 |   0.885305 |    1        | 0.168831  |   0.288889 | [[481, 0], [64, 13]] |\n",
      "+-----+------------+-------------+-----------+------------+----------------------+\n",
      "|  23 |   0.870968 |    1        | 0.0649351 |   0.121951 | [[481, 0], [72, 5]]  |\n",
      "+-----+------------+-------------+-----------+------------+----------------------+\n",
      "|  28 |   0.867384 |    1        | 0.038961  |   0.075    | [[481, 0], [74, 3]]  |\n",
      "+-----+------------+-------------+-----------+------------+----------------------+\n"
     ]
    }
   ],
   "source": [
    "print('KNN results using Manhattan Distance on Test Dataset')\n",
    "accuracy,precision,recall,f1_score,confusion_matrix = fxn(x_train, y_train, x_test, y_test, k_values, manhattan_distance)\n",
    "\n",
    "data = []\n",
    "for k in k_values:\n",
    "    data.append([k,accuracy[k],precision[k],recall[k],f1_score[k],confusion_matrix[k]])\n",
    "\n",
    "head = ['K', 'Accuracy', 'Precision', 'Recall', 'F1 Score', 'Confusion Matrix']\n",
    "print(tabulate(data, headers=head, tablefmt=\"grid\"))"
   ]
  },
  {
   "cell_type": "markdown",
   "id": "98823c4d",
   "metadata": {},
   "source": [
    "As earlier predicted that we should use k=1 for test dataset. So here also on test dataset best results occured on k=1"
   ]
  },
  {
   "cell_type": "code",
   "execution_count": 20,
   "id": "a83dde72",
   "metadata": {},
   "outputs": [
    {
     "data": {
      "image/png": "[encoded data removed]",
      "text/plain": [
       "<Figure size 432x288 with 1 Axes>"
      ]
     },
     "metadata": {
      "needs_background": "light"
     },
     "output_type": "display_data"
    }
   ],
   "source": [
    "f1 = []\n",
    "for k in k_values:\n",
    "    f1.append(f1_score[k])\n",
    "\n",
    "plt.plot(k_values, f1)\n",
    "plt.xlabel('Values of K')\n",
    "plt.ylabel('F1 score')\n",
    "plt.title('F1 score vs K using Manhattan Distance')\n",
    "plt.show()"
   ]
  },
  {
   "cell_type": "markdown",
   "id": "ee6eb76b",
   "metadata": {},
   "source": [
    "### Train your KNN model (reuse previously iplemented model built from scratch) and test on your data"
   ]
  },
  {
   "cell_type": "markdown",
   "id": "22baf6b2",
   "metadata": {},
   "source": [
    "***1. Experiment with different distance measures [Euclidean distance, Manhattan distance] and compare with the Cosine Similarity distance results.***\n",
    "\n",
    "Answer: The experimentation is done above. The Cosine Similarity results are best out of all distance measures used. \n",
    "\n",
    "The order being Cosine Similarity > Manhattan Distance > Euclidean Distance"
   ]
  },
  {
   "cell_type": "markdown",
   "id": "bcf6f3b1",
   "metadata": {},
   "source": [
    "***2. Explain which distance measure works best and why? Explore the distance measures and weigh their pro and cons in different application settings.***"
   ]
  },
  {
   "cell_type": "markdown",
   "id": "bae57a01",
   "metadata": {},
   "source": [
    "Answer: Cosine Similarity distance measure works best for the problem, because the text in emails is representated as a high-dimensional vector and cosine similarity works best both for high dimensional data and recommendation systems.\n",
    "\n",
    "\n",
    "### Euclidean Distance:\n",
    "\n",
    "Pros:\n",
    "\n",
    "-> Works nicely with low-dimensional data.\n",
    "\n",
    "-> Should be used when magnitude of the vectors is important to be measured.\n",
    "\n",
    "-> Simple to implement.\n",
    "\n",
    "Cons:\n",
    "\n",
    "-> Scale in-variant :- distances can be skewed depending on the units of the features. Normalization of data needs to be done before using this distance measure.\n",
    "\n",
    "-> Curse of Dimensionality :- As the dimensionality increases, euclidean distance becomes less useful, due to the notion that higher-dimensional space does not act as we would, intuitively, expect from 2- or 3-dimensional space.\n",
    "\n",
    "### Cosine Similarity:\n",
    "\n",
    "Pros:\n",
    "\n",
    "-> Works well with high dimensional data and is used as a counteract to Euclidean.\n",
    "\n",
    "-> Measure of orientation is more important here than order of magnitude.\n",
    "\n",
    "Cons:\n",
    "\n",
    "-> Magnitude of vectors is not taken into account, merely their direction.\n",
    "\n",
    "### Manhattan Distance:\n",
    "\n",
    "Pros:\n",
    "\n",
    "-> Works well when the dataset has discrete or binary attributes.\n",
    "\n",
    "Cons:\n",
    "\n",
    "-> Works okay for high dimensional data and is more likely to give a higher distance value than euclidean distance since it does not use shortest path possible. One needs to take this into account when considering to choose manhattan as a distance metric.\n",
    "\n"
   ]
  },
  {
   "cell_type": "markdown",
   "id": "15000352",
   "metadata": {},
   "source": [
    "### Train and test Sklearn's KNN classifier model on your data (use metric which gave best results on your experimentation with built-from-scratch model.)"
   ]
  },
  {
   "cell_type": "markdown",
   "id": "77f7b76c",
   "metadata": {},
   "source": [
    "As the best result is produced by using cosine similarity as metric, so we are using cosine similarity as a metric in sklearn's KNN classifier. Also the best result occur for k=1 so we are using value of k as 1 here."
   ]
  },
  {
   "cell_type": "code",
   "execution_count": 21,
   "id": "9f1c3073",
   "metadata": {},
   "outputs": [],
   "source": [
    "# splitting the data to be used by in-built sklearn's classifier\n",
    "x = df['vector']\n",
    "y = df['label']\n",
    "\n",
    "x_train_new = []\n",
    "y_train_new = []\n",
    "x_valid_new = []\n",
    "y_valid_new = []\n",
    "x_test_new = []\n",
    "y_test_new = []\n",
    "\n",
    "for key in x_train.keys():\n",
    "    x_train_new.append(df['vector'][key])\n",
    "    y_train_new.append(df['label'][key])\n",
    "\n",
    "for key in x_valid.keys():\n",
    "    x_valid_new.append(df['vector'][key])\n",
    "    y_valid_new.append(df['label'][key])\n",
    "\n",
    "for key in x_test.keys():\n",
    "    x_test_new.append(df['vector'][key])\n",
    "    y_test_new.append(df['label'][key])"
   ]
  },
  {
   "cell_type": "code",
   "execution_count": 22,
   "id": "2756e8df",
   "metadata": {},
   "outputs": [],
   "source": [
    "def cosine_sim(vec1, vec2):\n",
    "    dot = 0.0\n",
    "    sq1 = 0.0\n",
    "    sq2 = 0.0\n",
    "    for i in range(len(vec1)):\n",
    "        dot += (vec1[i]*vec2[i])\n",
    "        sq1 += (vec1[i]**2)\n",
    "        sq2 += (vec2[i]**2)\n",
    "\n",
    "    sq = math.sqrt(sq1*sq2)\n",
    "    cos_sim = dot/sq\n",
    "    sin_sim = 1 - (cos_sim**2)\n",
    "\n",
    "    if sin_sim < 0.0:\n",
    "        return 1.0\n",
    "    else:\n",
    "        return math.sqrt(sin_sim)"
   ]
  },
  {
   "cell_type": "code",
   "execution_count": 42,
   "id": "243ab0cf",
   "metadata": {},
   "outputs": [
    {
     "name": "stdout",
     "output_type": "stream",
     "text": [
      "Results of built-in KNN classifier on Validation Dataset\n",
      "For k: 1,  accuracy: 0.9640933572710951,  precision: 0.9193548387096774  recall: 0.7916666666666666  f1 score: 0.8507462686567164  confusion matrix: [[480   5]\n",
      " [ 15  57]]\n",
      "----------------------------------------\n",
      "Results of built-in KNN classifier on Test Dataset\n",
      "For k: 1,  accuracy: 0.967741935483871,  precision: 0.8734177215189873  recall: 0.8961038961038961  f1 score: 0.8846153846153846  confusion matrix: [[471  10]\n",
      " [  8  69]]\n"
     ]
    }
   ],
   "source": [
    "from sklearn.neighbors import KNeighborsClassifier\n",
    "\n",
    "# write the hyper-parameter here  --> by default the in-built KNN classifier uses euclidean distance as a metric to compare the similarity \n",
    "k = 1\n",
    "model = KNeighborsClassifier(n_neighbors=k,metric='cosine')\n",
    "\n",
    "# Train the model using the training sets\n",
    "model.fit(x_train_new,y_train_new)\n",
    "\n",
    "#Predict Output\n",
    "predicted = model.predict(x_valid_new) \n",
    "\n",
    "# Calculating accuracy, precision, recall, f1 score, confusion matrix\n",
    "from sklearn.metrics import accuracy_score, recall_score, precision_score, confusion_matrix, f1_score \n",
    "accuracy = accuracy_score(y_valid_new, predicted, normalize=True, sample_weight=None)\n",
    "recall = recall_score(y_valid_new, predicted, labels=None, pos_label=1, average='binary', sample_weight=None, zero_division='warn')\n",
    "precision = precision_score(y_valid_new, predicted, labels=None, pos_label=1, average='binary', sample_weight=None, zero_division='warn')\n",
    "f1_score = f1_score(y_valid_new, predicted, labels=None, pos_label=1, average='binary', sample_weight=None, zero_division='warn')\n",
    "confusion_matrix = confusion_matrix(y_valid_new, predicted)\n",
    "\n",
    "print('Results of built-in KNN classifier on Validation Dataset')\n",
    "print('For k: {},  accuracy: {},  precision: {}  recall: {}  f1 score: {}  confusion matrix: {}'.format(k,accuracy,precision,recall,f1_score,confusion_matrix))\n",
    "\n",
    "print('----------------------------------------')\n",
    "\n",
    "#Predict Output\n",
    "predicted = model.predict(x_test_new) \n",
    "\n",
    "# Calculating accuracy, precision, recall, f1 score, confusion matrix\n",
    "from sklearn.metrics import accuracy_score, recall_score, precision_score, confusion_matrix, f1_score \n",
    "accuracy = accuracy_score(y_test_new, predicted, normalize=True, sample_weight=None)\n",
    "recall = recall_score(y_test_new, predicted, labels=None, pos_label=1, average='binary', sample_weight=None, zero_division='warn')\n",
    "precision = precision_score(y_test_new, predicted, labels=None, pos_label=1, average='binary', sample_weight=None, zero_division='warn')\n",
    "f1_score = f1_score(y_test_new, predicted, labels=None, pos_label=1, average='binary', sample_weight=None, zero_division='warn')\n",
    "confusion_matrix = confusion_matrix(y_test_new, predicted)\n",
    "\n",
    "print('Results of built-in KNN classifier on Test Dataset')\n",
    "print('For k: {},  accuracy: {},  precision: {}  recall: {}  f1 score: {}  confusion matrix: {}'.format(k,accuracy,precision,recall,f1_score,confusion_matrix))"
   ]
  },
  {
   "cell_type": "markdown",
   "id": "7d22aa47",
   "metadata": {},
   "source": [
    "***Compare both the models result.***"
   ]
  },
  {
   "cell_type": "markdown",
   "id": "6a7a5274",
   "metadata": {},
   "source": [
    "The results from both the models are almost the same as expected."
   ]
  },
  {
   "cell_type": "markdown",
   "id": "64987575",
   "metadata": {},
   "source": [
    "***What is the time complexity of training using KNN classifier?***"
   ]
  },
  {
   "cell_type": "markdown",
   "id": "2770c106",
   "metadata": {},
   "source": [
    "The Time Complexity of training using KNN classifier is O(1) because KNN is a lazy leraning classifier which means that there is no need for learning or training of the model and all of the data points are used at the time of prediction."
   ]
  },
  {
   "cell_type": "markdown",
   "id": "fad1f345",
   "metadata": {},
   "source": [
    "***What is the time complexity while testing? Is KNN a linear classifier or can it learn any boundary?***"
   ]
  },
  {
   "cell_type": "markdown",
   "id": "0daaa324",
   "metadata": {},
   "source": [
    "The Time Complexity while testing is O(n*d) if we are testing for one test point, where\n",
    "n is the number of training data points\n",
    "d is the dimension of vector of each training data point.\n",
    "\n",
    "For m testing points, the time complexity would become O(n * m * d).\n",
    "\n",
    "KNN is a non-linear classifier. The decision boundaries of KNN are locally linear segments, but in general have a complex shape that is not equivalent to a line in 2D or a hyperplane in higher dimensions. It can learn any(both linear and non-linear) boundaries."
   ]
  }
 ],
 "metadata": {
  "kernelspec": {
   "display_name": "Python 3",
   "language": "python",
   "name": "python3"
  },
  "language_info": {
   "codemirror_mode": {
    "name": "ipython",
    "version": 3
   },
   "file_extension": ".py",
   "mimetype": "text/x-python",
   "name": "python",
   "nbconvert_exporter": "python",
   "pygments_lexer": "ipython3",
   "version": "3.8.10"
  }
 },
 "nbformat": 4,
 "nbformat_minor": 5
}
