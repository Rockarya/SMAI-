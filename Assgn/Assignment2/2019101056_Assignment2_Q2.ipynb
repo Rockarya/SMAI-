{
 "cells": [
  {
   "cell_type": "markdown",
   "id": "improving-pepper",
   "metadata": {},
   "source": [
    "# Assignment 2 - Question 2\n",
    "The objective of this assignment is to get you familiarize with  the  problem  of  `Linear Regression`.\n",
    "\n",
    "## Instructions\n",
    "- Write your code and analysis in the indicated cells.\n",
    "- Ensure that this notebook runs without errors when the cells are run in sequence.\n",
    "- Do not attempt to change the contents of other cells.\n",
    "- No inbuilt functions to be used until specified\n",
    "\n",
    "## Submission\n",
    "- Ensure that this notebook runs without errors when the cells are run in sequence.\n",
    "- Rename the notebook to `<roll_number>_Assignment2_Q2.ipynb`."
   ]
  },
  {
   "cell_type": "markdown",
   "id": "final-transaction",
   "metadata": {},
   "source": [
    "## 2.0 Background about the dataset\n",
    "\n",
    "TLDR: You have 4 independent variables (`float`) for each molecule. You can use a linear combination of these 4 independent variables to predict the bandgap (dependent variable) of each molecule.\n",
    "\n",
    "You can read more about the problem in [Li et al, Bandgap tuning strategy by cations and halide ions of lead halide perovskites learned from machine learning, RSC Adv., 2021,11, 15688-15694](https://doi.org/10.1039/D1RA03117A)."
   ]
  },
  {
   "cell_type": "code",
   "execution_count": 83,
   "id": "lyric-olympus",
   "metadata": {},
   "outputs": [],
   "source": [
    "import csv\n",
    "import random\n",
    "import numpy as np\n",
    "import math\n",
    "from sklearn.preprocessing import StandardScaler\n",
    "from sklearn.preprocessing import MinMaxScaler\n",
    "from sklearn.model_selection import train_test_split\n",
    "import matplotlib.pyplot as plt\n",
    "from tabulate import tabulate"
   ]
  },
  {
   "cell_type": "code",
   "execution_count": 88,
   "id": "hundred-receipt",
   "metadata": {},
   "outputs": [],
   "source": [
    "all_molecules = list()\n",
    "\n",
    "with open('bg_data.txt', 'r') as infile:\n",
    "    input_rows = csv.DictReader(infile)\n",
    "\n",
    "    # creating data\n",
    "    data = []\n",
    "    for row in input_rows:\n",
    "        data.append([float(row['Cs']), float(row['FA']), float(row['Cl']), float(row['Br']), float(row['Bandgap'])])\n",
    "\n",
    "    # MinMax Scaling\n",
    "    scaler = MinMaxScaler()\n",
    "    model = scaler.fit(data)\n",
    "    data = model.transform(data)\n",
    "    \n",
    "    for row in data:\n",
    "        current_mol = ([row[0],row[1],row[2],row[3]], row[4])\n",
    "        all_molecules.append(current_mol)\n",
    "\n",
    "random.shuffle(all_molecules)\n",
    "\n",
    "num_train = int(len(all_molecules) * 0.8)\n",
    "\n",
    "# each point in x_train has 4 values - 1 for each feature\n",
    "x_train = np.array([x[0] for x in all_molecules[:num_train]])\n",
    "# each point in y_train has 1 value - the bandgap of the molecule\n",
    "y_train = np.array([x[1] for x in all_molecules[:num_train]])\n",
    "\n",
    "x_test = np.array([x[0] for x in all_molecules[num_train:]])\n",
    "y_test = np.array([x[1] for x in all_molecules[num_train:]])"
   ]
  },
  {
   "cell_type": "markdown",
   "id": "square-direction",
   "metadata": {},
   "source": [
    "### 2.1 Implement a Linear Regression model that minimizes the MSE **without using any libraries**. You may use NumPy to vectorize your code, but *do not use numpy.polyfit* or anything similar.\n",
    "\n",
    "2.1.1 Explain how you plan to implement Linear Regression in 5-10 lines."
   ]
  },
  {
   "cell_type": "markdown",
   "id": "frozen-forth",
   "metadata": {},
   "source": [
    "We will implement batch gradient descent to calculate the model parameters, because there are just 109 data points, so no issue regarding the speed. Parameters are updated after computing the gradient of error with respect to the training set. Batch gradient descent provides the least MSE as compared to Mini-batch and Stochastic regression, making it a good choice."
   ]
  },
  {
   "cell_type": "markdown",
   "id": "addressed-winter",
   "metadata": {},
   "source": [
    "2.1.2 Implement Linear Regression using `x_train` and `y_train` as the train dataset.\n",
    "\n",
    "2.1.2.1 Choose the best learning rate and print the learning rate for which you achieved the best MSE."
   ]
  },
  {
   "cell_type": "code",
   "execution_count": 71,
   "id": "angry-depression",
   "metadata": {},
   "outputs": [],
   "source": [
    "# implement Linear Regression\n",
    "# function to compute predictions\n",
    "def predictions(x, params):\n",
    "\treturn np.dot(x, params)\n",
    "\n",
    "# function to compute gradient of error function w.r.t. parameters\n",
    "def gradient(x, y, params):\n",
    "\th = predictions(x, params)\n",
    "\tg = np.dot(x.transpose(), (h - y))\n",
    "\treturn g\n",
    "\n",
    "# function to compute the error for current values of parameters\n",
    "def cost(x, y, params):\n",
    "\th = predictions(x, params)\n",
    "\tJ = np.dot((h - y).transpose(), (h - y))\n",
    "\tJ /= 2\n",
    "\treturn J\n",
    "\n",
    "# function to perform batch gradient descent\n",
    "def gradient_descent(X, Y, learning_rate):\n",
    "\t# coeffiecinets of 4 independent variables\n",
    "\tparams = [0.0,0.0,0.0,0.0]\n",
    "\tfor itr in range(1000):\n",
    "\t\tfor i in range(len(X)):\n",
    "\t\t\tparams = params - learning_rate * gradient(X[i], Y[i], params)\n",
    "\n",
    "\treturn params"
   ]
  },
  {
   "cell_type": "code",
   "execution_count": 72,
   "id": "bd30e597",
   "metadata": {},
   "outputs": [
    {
     "name": "stdout",
     "output_type": "stream",
     "text": [
      "Coefficients:  [ 0.01426938 -0.00652261  0.96857879  0.45529677]\n"
     ]
    }
   ],
   "source": [
    "learning_rate = 0.008\n",
    "params = gradient_descent(x_train,y_train,learning_rate)\n",
    "print('Coefficients: ',params)"
   ]
  },
  {
   "cell_type": "code",
   "execution_count": 73,
   "id": "4f6ef85d",
   "metadata": {},
   "outputs": [
    {
     "name": "stdout",
     "output_type": "stream",
     "text": [
      "Mean absolute error =  0.006451296701300799\n"
     ]
    }
   ],
   "source": [
    "# predicting output for X_test\n",
    "y_pred = predictions(x_test, params)\n",
    "\n",
    "# MSE\n",
    "mse = np.sum((y_test - y_pred)**2 / y_test.shape[0])\n",
    "print(\"Mean absolute error = \", mse)"
   ]
  },
  {
   "cell_type": "markdown",
   "id": "d645e690",
   "metadata": {},
   "source": [
    "I have used learning rate = 0.08 and obtained MSE = 0.006451296701300799 as the best MSE."
   ]
  },
  {
   "cell_type": "markdown",
   "id": "angry-tampa",
   "metadata": {},
   "source": [
    "2.1.3 Make a [Parity Plot](https://en.wikipedia.org/wiki/Parity_plot) of your model's bandgap predictions on the test set with the actual values."
   ]
  },
  {
   "cell_type": "code",
   "execution_count": 74,
   "id": "foster-center",
   "metadata": {},
   "outputs": [
    {
     "data": {
      "image/png": "[encoded data removed]",
      "text/plain": [
       "<Figure size 720x1440 with 1 Axes>"
      ]
     },
     "metadata": {
      "needs_background": "light"
     },
     "output_type": "display_data"
    }
   ],
   "source": [
    "# Get the predictions of x_test into `y_pred`\n",
    "import matplotlib.pyplot as plt\n",
    "fig, ax = plt.subplots(figsize=(10,20))\n",
    "\n",
    "ax.scatter(y_test, y_pred)\n",
    "\n",
    "lims = [\n",
    "    np.min([ax.get_xlim(), ax.get_ylim()]),\n",
    "    np.max([ax.get_xlim(), ax.get_ylim()]),\n",
    "]\n",
    "ax.plot(lims, lims, 'k-', alpha=0.75, zorder=0)\n",
    "ax.set_aspect('equal')\n",
    "ax.set_xlim(lims)\n",
    "ax.set_ylim(lims)\n",
    "\n",
    "ax.set_title('Parity Plot of Custom Linear Regression')\n",
    "ax.set_xlabel('Ground truth bandgap values')\n",
    "ax.set_ylabel('Predicted bandgap values')\n",
    "plt.show()"
   ]
  },
  {
   "cell_type": "code",
   "execution_count": 94,
   "id": "c12b1ac6",
   "metadata": {},
   "outputs": [],
   "source": [
    "X = []\n",
    "Y = []\n",
    "for row in data:\n",
    "    X.append([row[0],row[1],row[2],row[3]])\n",
    "    Y.append(row[4])\n",
    "\n",
    "scaler = StandardScaler()\n",
    "scaled_X = scaler.fit_transform(X)\n",
    "\n",
    "x_train, x_test, y_train, y_test = train_test_split(scaled_X, Y,train_size = 0.8)\n",
    "x_train = np.array(x_train)\n",
    "y_train = np.array(y_train)\n",
    "x_test = np.array(x_test)\n",
    "y_test = np.array(y_test)"
   ]
  },
  {
   "cell_type": "markdown",
   "id": "dominant-chaos",
   "metadata": {},
   "source": [
    "### 2.2 Implement Ridge regression\n",
    "2.2.1 Explain Ridge regression briefly in 1-2 lines.\n",
    "\n",
    "Ans) A Ridge regressor is basically a regularized version of a Linear Regressor. i.e to the original cost function of linear regressor we add a regularized term that forces the learning algorithm to fit the data and helps to keep the weights lower as possible. The regularized term has the parameter ‘alpha’ which controls the regularization of the model i.e helps in reducing the variance of the estimates."
   ]
  },
  {
   "cell_type": "markdown",
   "id": "happy-cyprus",
   "metadata": {},
   "source": [
    "<!-- Your answer to 1.2.1 -->"
   ]
  },
  {
   "cell_type": "markdown",
   "id": "tight-forwarding",
   "metadata": {},
   "source": [
    "2.2.2 Implement Ridge regression and make a table of different RMSE scores you achieved with different values of alpha. What does the parameter `alpha` do? How does it affect the results here? Explain in 5-10 lines in total. (You can use scikit-learn from this cell onwards)\n",
    "\n",
    "Ans) Ans: Increasing alpha(regularization parameter value) results in weights getting reduced. This may result in some of the weights becoming zero. This is why Lasso regression is also considered for supervised feature selection."
   ]
  },
  {
   "cell_type": "code",
   "execution_count": 92,
   "id": "violent-northern",
   "metadata": {},
   "outputs": [
    {
     "name": "stdout",
     "output_type": "stream",
     "text": [
      "RMSE values for different alpha values\n",
      "+---------+-----------+\n",
      "|   alpha |      RMSE |\n",
      "+=========+===========+\n",
      "|   0.001 | 0.0283795 |\n",
      "+---------+-----------+\n",
      "|   0.01  | 0.0283783 |\n",
      "+---------+-----------+\n",
      "|   0.1   | 0.0283669 |\n",
      "+---------+-----------+\n",
      "|   1     | 0.0283764 |\n",
      "+---------+-----------+\n",
      "|  10     | 0.0365609 |\n",
      "+---------+-----------+\n",
      "| 100     | 0.125617  |\n",
      "+---------+-----------+\n"
     ]
    }
   ],
   "source": [
    "# you should not have imported sklearn before this point\n",
    "from sklearn.linear_model import Ridge\n",
    "\n",
    "alpha = [0.001,0.01,0.1,1.0,10.0,100.0]\n",
    "table_values = []\n",
    "for alp in alpha:\n",
    "    model = Ridge(alpha = alp,  tol = 0.001, solver ='auto', random_state = 42)\n",
    "    model.fit(x_train, y_train)\n",
    "    \n",
    "    # predicting the y_test\n",
    "    y_pred = model.predict(x_test)\n",
    "    \n",
    "    # finding rmse for our model\n",
    "    mse = np.sum((y_test - y_pred)**2 / y_test.shape[0])\n",
    "    rmse = math.sqrt(mse)\n",
    "    table_values.append([alp,rmse])\n",
    "\n",
    "head = ['alpha', 'RMSE']\n",
    "print('RMSE values for different alpha values')\n",
    "print(tabulate(table_values, headers=head, tablefmt=\"grid\"))"
   ]
  },
  {
   "cell_type": "markdown",
   "id": "adolescent-temperature",
   "metadata": {},
   "source": [
    "### 2.3 Implement Lasso regression\n",
    "2.3.1 Explain Lasso regression briefly in 1-2 lines.\n",
    "\n",
    "Ans: Lasso regression extends Linear regression in the way that a regularization element(L1 norm) is added to the least squares loss function of linear regression in order to induce the penalty (decrease weights) against complexity (large number of features)."
   ]
  },
  {
   "cell_type": "markdown",
   "id": "popular-wonder",
   "metadata": {},
   "source": [
    "2.3.2 Implement Lasso regression and make a table of different RMSE scores you achieved with different values of alpha. What does the parameter `alpha` do? How does it affect the results here? Explain in 5-10 lines in total.\n",
    "\n",
    "Ans: Increasing alpha(regularization parameter value) results in weights getting reduced. This may result in some of the weights becoming zero. This is why Lasso regression is also considered for supervised feature selection."
   ]
  },
  {
   "cell_type": "code",
   "execution_count": 99,
   "id": "extra-brighton",
   "metadata": {},
   "outputs": [
    {
     "name": "stdout",
     "output_type": "stream",
     "text": [
      "RMSE values for different alpha values\n",
      "+---------+-----------+\n",
      "|   alpha |      RMSE |\n",
      "+=========+===========+\n",
      "|  0.0001 | 0.0338808 |\n",
      "+---------+-----------+\n",
      "|  0.001  | 0.0343317 |\n",
      "+---------+-----------+\n",
      "|  0.01   | 0.0416948 |\n",
      "+---------+-----------+\n",
      "|  0.1    | 0.15001   |\n",
      "+---------+-----------+\n",
      "|  1      | 0.261296  |\n",
      "+---------+-----------+\n",
      "| 10      | 0.261296  |\n",
      "+---------+-----------+\n"
     ]
    }
   ],
   "source": [
    "# implement Lasso regression and make a table where you explore the effect of different values of `alpha`\n",
    "from sklearn.linear_model import Lasso\n",
    "\n",
    "alpha = [0.0001,0.001,0.01,0.1,1.0,10.0]\n",
    "table_values = []\n",
    "for alp in alpha:\n",
    "    model = Lasso(alpha = alp,  tol = 0.001, random_state = 42)\n",
    "    model.fit(x_train, y_train)\n",
    "    \n",
    "    # predicting the y_test\n",
    "    y_pred = model.predict(x_test)\n",
    "    \n",
    "    # finding rmse for our model\n",
    "    mse = np.sum((y_test - y_pred)**2 / y_test.shape[0])\n",
    "    rmse = math.sqrt(mse)\n",
    "    table_values.append([alp,rmse])\n",
    "\n",
    "head = ['alpha', 'RMSE']\n",
    "print('RMSE values for different alpha values')\n",
    "print(tabulate(table_values, headers=head, tablefmt=\"grid\"))"
   ]
  }
 ],
 "metadata": {
  "kernelspec": {
   "display_name": "Python 3",
   "language": "python",
   "name": "python3"
  },
  "language_info": {
   "codemirror_mode": {
    "name": "ipython",
    "version": 3
   },
   "file_extension": ".py",
   "mimetype": "text/x-python",
   "name": "python",
   "nbconvert_exporter": "python",
   "pygments_lexer": "ipython3",
   "version": "3.8.10"
  }
 },
 "nbformat": 4,
 "nbformat_minor": 5
}
