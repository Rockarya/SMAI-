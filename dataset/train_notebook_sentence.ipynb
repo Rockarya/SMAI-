{
 "cells": [
  {
   "cell_type": "code",
   "execution_count": 1,
   "metadata": {},
   "outputs": [
    {
     "name": "stderr",
     "output_type": "stream",
     "text": [
      "2022-04-27 12:26:28.826928: W tensorflow/stream_executor/platform/default/dso_loader.cc:64] Could not load dynamic library 'libcudart.so.11.0'; dlerror: libcudart.so.11.0: cannot open shared object file: No such file or directory\n",
      "2022-04-27 12:26:28.840358: I tensorflow/stream_executor/cuda/cudart_stub.cc:29] Ignore above cudart dlerror if you do not have a GPU set up on your machine.\n",
      "/home/aryan/.local/lib/python3.8/site-packages/tensorboard/compat/tensorflow_stub/dtypes.py:541: FutureWarning: Passing (type, 1) or '1type' as a synonym of type is deprecated; in a future version of numpy, it will be understood as (type, (1,)) / '(1,)type'.\n",
      "  _np_qint8 = np.dtype([(\"qint8\", np.int8, 1)])\n",
      "/home/aryan/.local/lib/python3.8/site-packages/tensorboard/compat/tensorflow_stub/dtypes.py:542: FutureWarning: Passing (type, 1) or '1type' as a synonym of type is deprecated; in a future version of numpy, it will be understood as (type, (1,)) / '(1,)type'.\n",
      "  _np_quint8 = np.dtype([(\"quint8\", np.uint8, 1)])\n",
      "/home/aryan/.local/lib/python3.8/site-packages/tensorboard/compat/tensorflow_stub/dtypes.py:543: FutureWarning: Passing (type, 1) or '1type' as a synonym of type is deprecated; in a future version of numpy, it will be understood as (type, (1,)) / '(1,)type'.\n",
      "  _np_qint16 = np.dtype([(\"qint16\", np.int16, 1)])\n",
      "/home/aryan/.local/lib/python3.8/site-packages/tensorboard/compat/tensorflow_stub/dtypes.py:544: FutureWarning: Passing (type, 1) or '1type' as a synonym of type is deprecated; in a future version of numpy, it will be understood as (type, (1,)) / '(1,)type'.\n",
      "  _np_quint16 = np.dtype([(\"quint16\", np.uint16, 1)])\n",
      "/home/aryan/.local/lib/python3.8/site-packages/tensorboard/compat/tensorflow_stub/dtypes.py:545: FutureWarning: Passing (type, 1) or '1type' as a synonym of type is deprecated; in a future version of numpy, it will be understood as (type, (1,)) / '(1,)type'.\n",
      "  _np_qint32 = np.dtype([(\"qint32\", np.int32, 1)])\n",
      "/home/aryan/.local/lib/python3.8/site-packages/tensorboard/compat/tensorflow_stub/dtypes.py:550: FutureWarning: Passing (type, 1) or '1type' as a synonym of type is deprecated; in a future version of numpy, it will be understood as (type, (1,)) / '(1,)type'.\n",
      "  np_resource = np.dtype([(\"resource\", np.ubyte, 1)])\n"
     ]
    }
   ],
   "source": [
    "# Library import\n",
    "import xml.etree.ElementTree as ET\n",
    "import spacy\n",
    "import string\n",
    "import numpy as np\n",
    "import json\n",
    "import random\n",
    "import pickle\n",
    "# for auto-correct words in review text\n",
    "from autocorrect import Speller\n",
    "spell = Speller()"
   ]
  },
  {
   "cell_type": "code",
   "execution_count": 2,
   "metadata": {},
   "outputs": [],
   "source": [
    "xml_filepath = './dataset/ABSA16_Laptops_Train_SB1_v2.xml'\n",
    "# create element tree object\n",
    "tree = ET.parse(xml_filepath)\n",
    "\n",
    "# get root element\n",
    "root = tree.getroot()"
   ]
  },
  {
   "cell_type": "code",
   "execution_count": 3,
   "metadata": {},
   "outputs": [],
   "source": [
    "data = []\n",
    "for it1 in root.findall('Review'):\n",
    "    for it2 in it1.findall('sentences'):\n",
    "        for it3 in it2.findall('sentence'):\n",
    "            for it4 in it3.findall('text'):\n",
    "                review_text = spell(it4.text.lower())\n",
    "\n",
    "            polarity_sum = 0\n",
    "            for it4 in it3.findall('Opinions'):\n",
    "                for it5 in it4.findall('Opinion'):\n",
    "                    if it5.attrib['polarity'] == 'negative':\n",
    "                        polarity_sum += -1\n",
    "                    elif it5.attrib['polarity'] == 'neutral':\n",
    "                        polarity_sum += 0\n",
    "                    else:\n",
    "                        polarity_sum += 1\n",
    "                    \n",
    "            # 0 negtaive, 1 neutral, 2 positive\n",
    "            if polarity_sum == 0:\n",
    "                polarity = 1  #neutral\n",
    "            elif polarity_sum > 0:\n",
    "                polarity = 2  #positive\n",
    "            else:\n",
    "                polarity = 0  #negative\n",
    "\n",
    "            data.append([review_text,polarity])"
   ]
  },
  {
   "cell_type": "code",
   "execution_count": 4,
   "metadata": {},
   "outputs": [
    {
     "name": "stdout",
     "output_type": "stream",
     "text": [
      "2500\n"
     ]
    }
   ],
   "source": [
    "print(len(data))"
   ]
  },
  {
   "cell_type": "code",
   "execution_count": 5,
   "metadata": {},
   "outputs": [],
   "source": [
    "# sm is small here, can use large here as lg here by downloading the large file\n",
    "# pip install -U pip setuptools wheel\n",
    "# pip install -U spacy\n",
    "# python -m spacy download en_core_web_lg\n",
    "nlp = spacy.load(\"en_core_web_lg\")\n",
    "\n",
    "\n",
    "# 200 dimensions vectors for the tokens. Giving 0's to padding token and generating randomly for oov tokens.\n",
    "emmbedding_dimensions = 300\n",
    "emmbed_dict = {}\n",
    "emmbed_dict['pad'] = np.zeros(emmbedding_dimensions)\n",
    "\n",
    "with open('../dataset/glove.6B/glove.6B.300d.txt','r') as f:\n",
    "    for line in f:\n",
    "        values = line.split()\n",
    "        word = values[0]\n",
    "        vector = np.asarray(values[1:],'float64')\n",
    "        emmbed_dict[word]=vector\n",
    "\n",
    "emmbed_dict['pad'] = np.zeros(emmbedding_dimensions)\n",
    "\n",
    "vec = []\n",
    "for _ in range(emmbedding_dimensions):\n",
    "    vec.append(random.uniform(-1,1))\n",
    "\n",
    "emmbed_dict['oov'] = np.array(vec)"
   ]
  },
  {
   "cell_type": "code",
   "execution_count": 6,
   "metadata": {},
   "outputs": [
    {
     "name": "stdout",
     "output_type": "stream",
     "text": [
      "Maximum Sentence Length is:  75\n"
     ]
    }
   ],
   "source": [
    "# removed punctuations\n",
    "train_data_vocab = set()  #also building training data vocab\n",
    "train_data_vocab.add('pad')\n",
    "train_data_vocab.add('oov')\n",
    "max_sent_length = 0\n",
    "\n",
    "for i in range(len(data)):\n",
    "    sent = data[i][0]\n",
    "    token_lst = []\n",
    "    for it in nlp(sent):\n",
    "        token = it.text\n",
    "        str = ''\n",
    "        for ch in token:\n",
    "            if ch == \"'\" or ch not in string.punctuation:\n",
    "                if ch == \"'\":\n",
    "                    str += ' '\n",
    "                str += ch\n",
    "            else:\n",
    "                str += ' '\n",
    "                \n",
    "        lst = str.split()\n",
    "        for token in lst:\n",
    "            if token in emmbed_dict:\n",
    "                token_lst.append(token)\n",
    "                train_data_vocab.add(token)\n",
    "            else:\n",
    "                token_lst.append('oov')\n",
    "\n",
    "    max_sent_length = max(len(token_lst), max_sent_length)\n",
    "    data[i][0] = token_lst\n",
    "\n",
    "\n",
    "print('Maximum Sentence Length is: ',max_sent_length)"
   ]
  },
  {
   "cell_type": "code",
   "execution_count": 7,
   "metadata": {},
   "outputs": [],
   "source": [
    "# token to index for training data\n",
    "token_to_index = {}\n",
    "for cnt, token in enumerate(train_data_vocab):\n",
    "    token_to_index[token] = cnt"
   ]
  },
  {
   "cell_type": "code",
   "execution_count": 8,
   "metadata": {},
   "outputs": [],
   "source": [
    "# sentence level padding and converting to indices\n",
    "for i in range(len(data)):\n",
    "    sent_ind = []\n",
    "    for j in range(max_sent_length):\n",
    "        if j < len(data[i][0]):\n",
    "            sent_ind.append(token_to_index[data[i][0][j]])\n",
    "        else:\n",
    "            sent_ind.append(token_to_index['pad'])\n",
    "    data[i][0] = sent_ind"
   ]
  },
  {
   "cell_type": "code",
   "execution_count": 9,
   "metadata": {},
   "outputs": [],
   "source": [
    "embedding_matrix = []\n",
    "for token in train_data_vocab:\n",
    "    embedding_matrix.append(emmbed_dict[token])\n",
    "\n",
    "embedding_matrix = np.array(embedding_matrix)"
   ]
  },
  {
   "cell_type": "code",
   "execution_count": 10,
   "metadata": {},
   "outputs": [],
   "source": [
    "# saving embedding matrix in numpy format\n",
    "np.save('embedding_matrix_laptops_sentence_level',embedding_matrix)"
   ]
  },
  {
   "cell_type": "code",
   "execution_count": 11,
   "metadata": {},
   "outputs": [],
   "source": [
    "dump_this_dict = {}\n",
    "for i in range(len(data)):\n",
    "    dump_this_dict[i] = data[i]"
   ]
  },
  {
   "cell_type": "code",
   "execution_count": 12,
   "metadata": {},
   "outputs": [],
   "source": [
    "with open('train_laptops_sentence_level.json', 'wb') as f:\n",
    "    pickle.dump(dump_this_dict, f)"
   ]
  },
  {
   "cell_type": "code",
   "execution_count": 13,
   "metadata": {},
   "outputs": [],
   "source": [
    "with open('train_laptops_sentence_level.json', 'rb') as f:\n",
    "    data = pickle.load(f)"
   ]
  },
  {
   "cell_type": "code",
   "execution_count": 14,
   "metadata": {},
   "outputs": [],
   "source": [
    "# dumping token to index, so that we can create test data\n",
    "with open('token_to_index_laptops_sentence_level.json', 'wb') as f:\n",
    "    pickle.dump(token_to_index, f)"
   ]
  },
  {
   "cell_type": "code",
   "execution_count": 15,
   "metadata": {},
   "outputs": [
    {
     "name": "stdout",
     "output_type": "stream",
     "text": [
      "(3129, 300)\n"
     ]
    }
   ],
   "source": [
    "print(embedding_matrix.shape)"
   ]
  },
  {
   "cell_type": "code",
   "execution_count": 16,
   "metadata": {},
   "outputs": [
    {
     "name": "stdout",
     "output_type": "stream",
     "text": [
      "2500 1092 819 589\n"
     ]
    }
   ],
   "source": [
    "total = 0\n",
    "pos = 0\n",
    "neg = 0\n",
    "neu = 0\n",
    "\n",
    "for i in range(len(data)):\n",
    "    if data[i][1] == 0:\n",
    "        neg += 1\n",
    "    elif data[i][1] == 1:\n",
    "        neu += 1\n",
    "    else:\n",
    "        pos += 1\n",
    "\n",
    "    total += 1\n",
    "\n",
    "print(total, pos, neg, neu)"
   ]
  },
  {
   "cell_type": "code",
   "execution_count": null,
   "metadata": {},
   "outputs": [],
   "source": []
  }
 ],
 "metadata": {
  "interpreter": {
   "hash": "916dbcbb3f70747c44a77c7bcd40155683ae19c65e1c03b4aa3499c5328201f1"
  },
  "kernelspec": {
   "display_name": "Python 3.8.10 64-bit",
   "language": "python",
   "name": "python3"
  },
  "language_info": {
   "codemirror_mode": {
    "name": "ipython",
    "version": 3
   },
   "file_extension": ".py",
   "mimetype": "text/x-python",
   "name": "python",
   "nbconvert_exporter": "python",
   "pygments_lexer": "ipython3",
   "version": "3.8.10"
  },
  "orig_nbformat": 4
 },
 "nbformat": 4,
 "nbformat_minor": 2
}
