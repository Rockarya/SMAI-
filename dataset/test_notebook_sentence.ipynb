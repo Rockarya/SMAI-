{
 "cells": [
  {
   "cell_type": "code",
   "execution_count": 10,
   "metadata": {},
   "outputs": [],
   "source": [
    "# Library import\n",
    "import xml.etree.ElementTree as ET\n",
    "import spacy\n",
    "import string\n",
    "import numpy as np\n",
    "import json\n",
    "import random\n",
    "import pickle\n",
    "# for auto-correct words in review text\n",
    "from autocorrect import Speller\n",
    "spell = Speller()"
   ]
  },
  {
   "cell_type": "code",
   "execution_count": 11,
   "metadata": {},
   "outputs": [],
   "source": [
    "# loading vocabulary of training data\n",
    "with open('token_to_index_laptops_sentence_level.json', 'rb') as f:\n",
    "    token_to_index = pickle.load(f)\n",
    "\n",
    "max_sent_length = 75"
   ]
  },
  {
   "cell_type": "code",
   "execution_count": 12,
   "metadata": {},
   "outputs": [],
   "source": [
    "xml_filepath = './dataset/EN_LAPT_SB1_TEST_.xml.gold'\n",
    "# create element tree object\n",
    "tree = ET.parse(xml_filepath)\n",
    "\n",
    "# get root element\n",
    "root = tree.getroot()"
   ]
  },
  {
   "cell_type": "code",
   "execution_count": 13,
   "metadata": {},
   "outputs": [],
   "source": [
    "data = []\n",
    "for it1 in root.findall('Review'):\n",
    "    for it2 in it1.findall('sentences'):\n",
    "        for it3 in it2.findall('sentence'):\n",
    "            for it4 in it3.findall('text'):\n",
    "                review_text = spell(it4.text.lower())\n",
    "\n",
    "            polarity_sum = 0\n",
    "            for it4 in it3.findall('Opinions'):\n",
    "                for it5 in it4.findall('Opinion'):\n",
    "                    if it5.attrib['polarity'] == 'negative':\n",
    "                        polarity_sum += -1\n",
    "                    elif it5.attrib['polarity'] == 'neutral':\n",
    "                        polarity_sum += 0\n",
    "                    else:\n",
    "                        polarity_sum += 1\n",
    "                    \n",
    "            # 0 negtaive, 1 neutral, 2 positive\n",
    "            if polarity_sum == 0:\n",
    "                polarity = 1  #neutral\n",
    "            elif polarity_sum > 0:\n",
    "                polarity = 2  #positive\n",
    "            else:\n",
    "                polarity = 0  #negative\n",
    "\n",
    "            data.append([review_text,polarity])"
   ]
  },
  {
   "cell_type": "code",
   "execution_count": 14,
   "metadata": {},
   "outputs": [
    {
     "name": "stdout",
     "output_type": "stream",
     "text": [
      "808\n"
     ]
    }
   ],
   "source": [
    "print(len(data))"
   ]
  },
  {
   "cell_type": "code",
   "execution_count": 15,
   "metadata": {},
   "outputs": [],
   "source": [
    "nlp = spacy.load(\"en_core_web_lg\")"
   ]
  },
  {
   "cell_type": "code",
   "execution_count": 16,
   "metadata": {},
   "outputs": [],
   "source": [
    "# removed punctuation\n",
    "for i in range(len(data)):\n",
    "    sent = data[i][0]\n",
    "    token_lst = []\n",
    "    for it in nlp(sent):\n",
    "        token = it.text\n",
    "        str = ''\n",
    "        for ch in token:\n",
    "            if ch == \"'\" or ch not in string.punctuation:\n",
    "                if ch == \"'\":\n",
    "                    str += ' '\n",
    "                str += ch\n",
    "            else:\n",
    "                str += ' '\n",
    "                \n",
    "        lst = str.split()\n",
    "        for token in lst:\n",
    "            if token in token_to_index:\n",
    "                token_lst.append(token)\n",
    "            else:\n",
    "                token_lst.append('oov')\n",
    "\n",
    "    data[i][0] = token_lst"
   ]
  },
  {
   "cell_type": "code",
   "execution_count": 17,
   "metadata": {},
   "outputs": [],
   "source": [
    "# sentence level padding and converting to indices\n",
    "for i in range(len(data)):\n",
    "    sent_ind = []\n",
    "    for j in range(max_sent_length):\n",
    "        if j < len(data[i][0]):\n",
    "            sent_ind.append(token_to_index[data[i][0][j]])\n",
    "        else:\n",
    "            sent_ind.append(token_to_index['pad'])\n",
    "    data[i][0] = sent_ind"
   ]
  },
  {
   "cell_type": "code",
   "execution_count": 18,
   "metadata": {},
   "outputs": [],
   "source": [
    "dump_this_dict = {}\n",
    "for i in range(len(data)):\n",
    "    dump_this_dict[i] = data[i]"
   ]
  },
  {
   "cell_type": "code",
   "execution_count": 19,
   "metadata": {},
   "outputs": [],
   "source": [
    "with open('test_laptops_sentence_level.json', 'wb') as f:\n",
    "    pickle.dump(dump_this_dict, f)"
   ]
  },
  {
   "cell_type": "code",
   "execution_count": 20,
   "metadata": {},
   "outputs": [],
   "source": [
    "with open('test_laptops_sentence_level.json', 'rb') as f:\n",
    "    data = pickle.load(f)"
   ]
  },
  {
   "cell_type": "code",
   "execution_count": 21,
   "metadata": {},
   "outputs": [
    {
     "name": "stdout",
     "output_type": "stream",
     "text": [
      "808 334 198 276\n"
     ]
    }
   ],
   "source": [
    "total = 0\n",
    "pos = 0\n",
    "neg = 0\n",
    "neu = 0\n",
    "\n",
    "for i in range(len(data)):\n",
    "    if data[i][1] == 0:\n",
    "        neg += 1\n",
    "    elif data[i][1] == 1:\n",
    "        neu += 1\n",
    "    else:\n",
    "        pos += 1\n",
    "\n",
    "    total += 1\n",
    "\n",
    "print(total, pos, neg, neu)"
   ]
  },
  {
   "cell_type": "code",
   "execution_count": null,
   "metadata": {},
   "outputs": [],
   "source": []
  }
 ],
 "metadata": {
  "interpreter": {
   "hash": "916dbcbb3f70747c44a77c7bcd40155683ae19c65e1c03b4aa3499c5328201f1"
  },
  "kernelspec": {
   "display_name": "Python 3.8.10 64-bit",
   "language": "python",
   "name": "python3"
  },
  "language_info": {
   "codemirror_mode": {
    "name": "ipython",
    "version": 3
   },
   "file_extension": ".py",
   "mimetype": "text/x-python",
   "name": "python",
   "nbconvert_exporter": "python",
   "pygments_lexer": "ipython3",
   "version": "3.8.10"
  },
  "orig_nbformat": 4
 },
 "nbformat": 4,
 "nbformat_minor": 2
}
