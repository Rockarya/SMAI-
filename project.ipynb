{
 "cells": [
  {
   "cell_type": "code",
   "execution_count": 20,
   "metadata": {},
   "outputs": [],
   "source": [
    "# Library import\n",
    "import xml.etree.ElementTree as ET\n",
    "import spacy\n",
    "import string\n",
    "import numpy as np\n",
    "import json\n",
    "import random\n",
    "import pickle"
   ]
  },
  {
   "cell_type": "code",
   "execution_count": 46,
   "metadata": {},
   "outputs": [],
   "source": [
    "xml_filepath = './dataset/ABSA16_Restaurants_Train_SB1_v2.xml'\n",
    "# create element tree object\n",
    "tree = ET.parse(xml_filepath)\n",
    "\n",
    "# get root element\n",
    "root = tree.getroot()"
   ]
  },
  {
   "cell_type": "code",
   "execution_count": 47,
   "metadata": {},
   "outputs": [
    {
     "name": "stdout",
     "output_type": "stream",
     "text": [
      "Max review length is:  44\n"
     ]
    }
   ],
   "source": [
    "# loading data from XML format to usable format -> review_text, entity, attribute, polarity(0/1)\n",
    "data = []\n",
    "max_review_length = 0\n",
    "for it1 in root.findall('Review'):\n",
    "    review = []\n",
    "    for it2 in it1.findall('sentences'):\n",
    "        for it3 in it2.findall('sentence'):\n",
    "            for it4 in it3.findall('text'):\n",
    "                review_text = it4.text.lower()\n",
    "\n",
    "            for it4 in it3.findall('Opinions'):\n",
    "                for it5 in it4.findall('Opinion'):\n",
    "                    lst = [review_text]\n",
    "                    txt = it5.attrib['category']\n",
    "                    splitted_category = txt.split('#')\n",
    "                    for tok in splitted_category:\n",
    "                        lst.append(tok.lower())\n",
    "                    \n",
    "                    polarity = 0\n",
    "                    if it5.attrib['polarity'] == 'positive':\n",
    "                        polarity = 1\n",
    "                    lst.append(polarity)\n",
    "                    review.append(lst)\n",
    "\n",
    "    max_review_length = max(max_review_length,len(review))\n",
    "    if len(review) != 0:\n",
    "        data.append(review)\n",
    "\n",
    "print('Max review length is: ', max_review_length)"
   ]
  },
  {
   "cell_type": "code",
   "execution_count": 48,
   "metadata": {},
   "outputs": [
    {
     "name": "stdout",
     "output_type": "stream",
     "text": [
      "349\n"
     ]
    }
   ],
   "source": [
    "print(len(data))"
   ]
  },
  {
   "cell_type": "code",
   "execution_count": 26,
   "metadata": {},
   "outputs": [],
   "source": [
    "# sm is small here, can use large here as lg here by downloading the large file\n",
    "# pip install -U pip setuptools wheel\n",
    "# pip install -U spacy\n",
    "# python -m spacy download en_core_web_sm\n",
    "nlp = spacy.load(\"en_core_web_sm\")"
   ]
  },
  {
   "cell_type": "code",
   "execution_count": 49,
   "metadata": {},
   "outputs": [
    {
     "name": "stdout",
     "output_type": "stream",
     "text": [
      "Maximum Sentence Lenght is:  61\n"
     ]
    }
   ],
   "source": [
    "# removed punctuations\n",
    "max_sent_length = 0\n",
    "for i in range(len(data)):\n",
    "    for j in range(len(data[i])):\n",
    "        sent = data[i][j][0]\n",
    "\n",
    "        token_lst = []\n",
    "        for it in nlp(sent):\n",
    "            token = it.text\n",
    "            str = ''\n",
    "            for ch in token:\n",
    "                if ch == \"'\" or ch not in string.punctuation:\n",
    "                    if ch == \"'\":\n",
    "                        str += ' '\n",
    "                    str += ch\n",
    "                else:\n",
    "                    str += ' '\n",
    "            lst = str.split()\n",
    "            for token in lst:\n",
    "                token_lst.append(token)\n",
    "\n",
    "        max_sent_length = max(len(token_lst), max_sent_length)\n",
    "        data[i][j][0] = token_lst\n",
    "\n",
    "print('Maximum Sentence Lenght is: ',max_sent_length)"
   ]
  },
  {
   "cell_type": "code",
   "execution_count": 50,
   "metadata": {},
   "outputs": [],
   "source": [
    "non_padded_sent_length = []\n",
    "for i in range(len(data)):\n",
    "    non_padded_sent_length.append(len(data[i]))"
   ]
  },
  {
   "cell_type": "code",
   "execution_count": 51,
   "metadata": {},
   "outputs": [],
   "source": [
    "# review level padded thing\n",
    "padded_sent = []\n",
    "for i in range(max_sent_length):\n",
    "    padded_sent.append('pad')\n",
    "padded_review = [padded_sent,'pad','pad',0]\n",
    "\n",
    "# sentence level and review level padding\n",
    "padded_data = []\n",
    "temp_data = data.copy()\n",
    "for i in range(len(data)):\n",
    "    for j in range(max_review_length):\n",
    "        if j < len(data[i]):\n",
    "            token_lst = data[i][j][0]\n",
    "            sent = []\n",
    "            for k in range(max_sent_length):\n",
    "                if k < len(token_lst):\n",
    "                    sent.append(token_lst[k])\n",
    "                else:\n",
    "                    sent.append('pad')\n",
    "            temp_data[i][j][0] = sent\n",
    "        \n",
    "        else:\n",
    "            temp_data[i].append(padded_review)\n",
    "\n",
    "    # inserting a token to acknowledge that after this point, only padded sentences occur\n",
    "    padded_data.append([temp_data[i],non_padded_sent_length[i]])"
   ]
  },
  {
   "cell_type": "code",
   "execution_count": 52,
   "metadata": {},
   "outputs": [],
   "source": [
    "def check_and_get_embedding(token):\n",
    "    if token not in emmbed_dict:\n",
    "        vec = []\n",
    "        for _ in range(emmbedding_dimensions):\n",
    "            vec.append(random.uniform(-1,1))\n",
    "        emmbed_dict[token] = np.array(vec)\n",
    "        \n",
    "    return emmbed_dict[token]"
   ]
  },
  {
   "cell_type": "code",
   "execution_count": 53,
   "metadata": {},
   "outputs": [],
   "source": [
    "# 200 dimensions vectors for the tokens. Giving 0's to padding token and generating randomly for oov tokens.\n",
    "emmbedding_dimensions = 200\n",
    "\n",
    "emmbed_dict = {}\n",
    "emmbed_dict['pad'] = np.zeros(emmbedding_dimensions)\n",
    "with open('./dataset/200d_glove.txt','r') as f:\n",
    "    for line in f:\n",
    "        values = line.split()\n",
    "        word = values[0]\n",
    "        vector = np.asarray(values[1:],'float32')\n",
    "        emmbed_dict[word]=vector\n",
    "\n",
    "\n",
    "review_embedding = []\n",
    "for i in range(len(padded_data)):\n",
    "    reviews = []\n",
    "    for j in range(len(padded_data[i][0])):\n",
    "        review = []\n",
    "        \n",
    "        lst = []\n",
    "        for token in padded_data[i][0][j][0]:\n",
    "            if token not in emmbed_dict:\n",
    "                vec = []\n",
    "                for i in range(emmbedding_dimensions):\n",
    "                    vec.append(random.uniform(-1,1))\n",
    "                emmbed_dict[token] = np.array(vec)\n",
    "\n",
    "            lst.append(emmbed_dict[token])\n",
    "\n",
    "        # words embeddings\n",
    "        review.append(np.array(lst))\n",
    "        # aspect embeddings\n",
    "        review.append(0.5*(check_and_get_embedding(data[i][j][1]) + check_and_get_embedding(data[i][j][2])))\n",
    "        # polarity\n",
    "        review.append(data[i][j][3])\n",
    "\n",
    "        reviews.append(review)\n",
    "\n",
    "    review_embedding.append([reviews,padded_data[i][1]])"
   ]
  },
  {
   "cell_type": "code",
   "execution_count": 54,
   "metadata": {},
   "outputs": [],
   "source": [
    "# not converted opinions into embeddings -> not known how to handle\n",
    "dump_this_dict = {}\n",
    "for i in range(len(review_embedding)):\n",
    "    dump_this_dict[i] = review_embedding[i]"
   ]
  },
  {
   "cell_type": "code",
   "execution_count": 57,
   "metadata": {},
   "outputs": [],
   "source": [
    "with open('train_restaurants.json', 'wb') as f:\n",
    "    pickle.dump(dump_this_dict, f)"
   ]
  },
  {
   "cell_type": "code",
   "execution_count": 58,
   "metadata": {},
   "outputs": [],
   "source": [
    "with open('train_restaurants.json', 'rb') as f:\n",
    "    data = pickle.load(f)"
   ]
  },
  {
   "cell_type": "code",
   "execution_count": null,
   "metadata": {},
   "outputs": [],
   "source": []
  }
 ],
 "metadata": {
  "interpreter": {
   "hash": "916dbcbb3f70747c44a77c7bcd40155683ae19c65e1c03b4aa3499c5328201f1"
  },
  "kernelspec": {
   "display_name": "Python 3.8.10 64-bit",
   "language": "python",
   "name": "python3"
  },
  "language_info": {
   "codemirror_mode": {
    "name": "ipython",
    "version": 3
   },
   "file_extension": ".py",
   "mimetype": "text/x-python",
   "name": "python",
   "nbconvert_exporter": "python",
   "pygments_lexer": "ipython3",
   "version": "3.8.10"
  },
  "orig_nbformat": 4
 },
 "nbformat": 4,
 "nbformat_minor": 2
}
