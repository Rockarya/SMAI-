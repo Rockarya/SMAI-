{
 "cells": [
  {
   "cell_type": "code",
   "execution_count": 37,
   "metadata": {},
   "outputs": [],
   "source": [
    "# Library import\n",
    "import xml.etree.ElementTree as ET\n",
    "import spacy\n",
    "import string\n",
    "import numpy as np\n",
    "import json\n",
    "import random\n",
    "import pickle\n",
    "# for auto-correct words in review text\n",
    "from autocorrect import Speller\n",
    "spell = Speller()"
   ]
  },
  {
   "cell_type": "code",
   "execution_count": 38,
   "metadata": {},
   "outputs": [],
   "source": [
    "xml_filepath = './dataset/ABSA16_Laptops_Train_SB1_v2.xml'\n",
    "# create element tree object\n",
    "tree = ET.parse(xml_filepath)\n",
    "\n",
    "# get root element\n",
    "root = tree.getroot()"
   ]
  },
  {
   "cell_type": "code",
   "execution_count": 39,
   "metadata": {},
   "outputs": [],
   "source": [
    "# # loading data from XML format to usable format -> review_text, entity, attribute, polarity(0/1)\n",
    "\n",
    "# --->                             Skipping conflicting sentences               <---\n",
    "# data = []\n",
    "# max_review_length = 0\n",
    "# for it1 in root.findall('Review'):\n",
    "#     review = []\n",
    "#     for it2 in it1.findall('sentences'):\n",
    "#         for it3 in it2.findall('sentence'):\n",
    "#             for it4 in it3.findall('text'):\n",
    "#                 review_text = spell(it4.text.lower())\n",
    "\n",
    "#             category_dict = {}\n",
    "#             for it4 in it3.findall('Opinions'):\n",
    "#                 for it5 in it4.findall('Opinion'):\n",
    "#                     cat = it5.attrib['category']\n",
    "                    \n",
    "#                     # 0 negtaive, 1 neutral, 2 positive\n",
    "#                     if it5.attrib['polarity'] == 'negative':\n",
    "#                         polarity = 0\n",
    "#                     elif it5.attrib['polarity'] == 'neutral':\n",
    "#                         polarity = 1\n",
    "#                     else:\n",
    "#                         polarity = 2\n",
    "\n",
    "#                     if category_dict.get(cat) == None:\n",
    "#                         category_dict[cat] = polarity\n",
    "\n",
    "#                     elif category_dict[cat] != -1:\n",
    "#                         if category_dict[cat] != polarity:\n",
    "#                             category_dict[cat] = -1\n",
    "\n",
    "#             for cat in category_dict:\n",
    "#                 if category_dict[cat] != -1:\n",
    "#                     lst = [review_text]\n",
    "#                     splitted_category = cat.split('#')\n",
    "#                     for tok in splitted_category:\n",
    "#                         lst.append(spell(tok.lower()))\n",
    "\n",
    "#                     lst.append(category_dict[cat])\n",
    "#                     review.append(lst)\n",
    "\n",
    "\n",
    "#     max_review_length = max(max_review_length,len(review))\n",
    "#     if len(review) != 0:\n",
    "#         data.append(review)\n",
    "\n",
    "# print('Max review length is: ', max_review_length)\n",
    "\n",
    "\n",
    "# ->          Taking majority opinion in conflicting case for sentence-opinion pair       <-\n",
    "data = []\n",
    "for it1 in root.findall('Review'):\n",
    "    review = []\n",
    "    for it2 in it1.findall('sentences'):\n",
    "        for it3 in it2.findall('sentence'):\n",
    "            for it4 in it3.findall('text'):\n",
    "                review_text = spell(it4.text.lower())\n",
    "\n",
    "            category_dict = {}\n",
    "            for it4 in it3.findall('Opinions'):\n",
    "                for it5 in it4.findall('Opinion'):\n",
    "                    cat = it5.attrib['category']\n",
    "                    \n",
    "                    if it5.attrib['polarity'] == 'negative':\n",
    "                        polarity = -1\n",
    "                    elif it5.attrib['polarity'] == 'neutral':\n",
    "                        polarity = 0\n",
    "                    else:\n",
    "                        polarity = 1\n",
    "\n",
    "                    if category_dict.get(cat) == None:\n",
    "                        category_dict[cat] = 0\n",
    "                    category_dict[cat] += polarity\n",
    "\n",
    "            # 0 negtaive, 1 neutral, 2 positive\n",
    "            for cat in category_dict:\n",
    "                lst = [review_text]\n",
    "                splitted_category = cat.split('#')\n",
    "                for tok in splitted_category:\n",
    "                    lst.append(spell(tok.lower()))\n",
    "\n",
    "                if category_dict[cat] == 0:\n",
    "                    polarity = 1  #neutral\n",
    "                elif category_dict[cat] > 0:\n",
    "                    polarity = 2  #positive\n",
    "                else:\n",
    "                    polarity = 0  #negative\n",
    "\n",
    "                lst.append(polarity)\n",
    "                review.append(lst)\n",
    "\n",
    "    if len(review) != 0:\n",
    "        data.append(review)"
   ]
  },
  {
   "cell_type": "code",
   "execution_count": 40,
   "metadata": {},
   "outputs": [
    {
     "name": "stdout",
     "output_type": "stream",
     "text": [
      "450\n"
     ]
    }
   ],
   "source": [
    "print(len(data))"
   ]
  },
  {
   "cell_type": "code",
   "execution_count": 41,
   "metadata": {},
   "outputs": [],
   "source": [
    "train_data = []\n",
    "val_data = []\n",
    "\n",
    "for i in range(len(data)):\n",
    "    if i<400:\n",
    "        train_data.append(data[i])\n",
    "    else:\n",
    "        val_data.append(data[i])\n",
    "\n",
    "\n",
    "dump_this_dict = {}\n",
    "for i in range(len(val_data)):\n",
    "    dump_this_dict[i] = val_data[i]\n",
    "\n",
    "with open('./dataset/valid_laptops.json', 'wb') as f:\n",
    "    pickle.dump(dump_this_dict, f)\n",
    "\n",
    "# train data\n",
    "data = train_data"
   ]
  },
  {
   "cell_type": "code",
   "execution_count": 42,
   "metadata": {},
   "outputs": [],
   "source": [
    "# setting these hyperparameters on our own\n",
    "max_review_length = 35\n",
    "max_sent_length = 100"
   ]
  },
  {
   "cell_type": "code",
   "execution_count": 43,
   "metadata": {},
   "outputs": [],
   "source": [
    "# sm is small here, can use large here as lg here by downloading the large file\n",
    "# pip install -U pip setuptools wheel\n",
    "# pip install -U spacy\n",
    "# python -m spacy download en_core_web_lg\n",
    "nlp = spacy.load(\"en_core_web_lg\")\n",
    "\n",
    "\n",
    "# 200 dimensions vectors for the tokens. Giving 0's to padding token and generating randomly for oov tokens.\n",
    "emmbedding_dimensions = 50\n",
    "emmbed_dict = {}\n",
    "emmbed_dict['pad'] = np.zeros(emmbedding_dimensions)\n",
    "\n",
    "with open('../dataset/glove.6B/glove.6B.50d.txt','r') as f:\n",
    "    for line in f:\n",
    "        values = line.split()\n",
    "        word = values[0]\n",
    "        vector = np.asarray(values[1:],'float64')\n",
    "        emmbed_dict[word]=vector\n",
    "\n",
    "emmbed_dict['pad'] = np.zeros(emmbedding_dimensions)\n",
    "\n",
    "vec = []\n",
    "for _ in range(emmbedding_dimensions):\n",
    "    vec.append(random.uniform(-1,1))\n",
    "\n",
    "emmbed_dict['oov'] = np.array(vec)"
   ]
  },
  {
   "cell_type": "code",
   "execution_count": 44,
   "metadata": {},
   "outputs": [],
   "source": [
    "# removed punctuations\n",
    "train_data_vocab = set()  #also building training data vocab\n",
    "train_data_vocab.add('pad')\n",
    "train_data_vocab.add('oov')\n",
    "for i in range(len(data)):\n",
    "    for j in range(len(data[i])):\n",
    "        sent = data[i][j][0]\n",
    "\n",
    "        token_lst = []\n",
    "        for it in nlp(sent):\n",
    "            token = it.text\n",
    "            str = ''\n",
    "            for ch in token:\n",
    "                if ch == \"'\" or ch not in string.punctuation:\n",
    "                    if ch == \"'\":\n",
    "                        str += ' '\n",
    "                    str += ch\n",
    "                else:\n",
    "                    str += ' '\n",
    "            lst = str.split()\n",
    "            for token in lst:\n",
    "                if token in emmbed_dict:\n",
    "                    token_lst.append(token)\n",
    "                    train_data_vocab.add(token)\n",
    "                else:\n",
    "                    token_lst.append('oov')\n",
    "\n",
    "        data[i][j][0] = token_lst\n",
    "\n",
    "        if data[i][j][1] in emmbed_dict:\n",
    "            train_data_vocab.add(data[i][j][1])\n",
    "        else:\n",
    "            data[i][j][1] = 'oov'\n",
    "\n",
    "        if data[i][j][2] in emmbed_dict:\n",
    "            train_data_vocab.add(data[i][j][2])\n",
    "        else:\n",
    "            data[i][j][2] = 'oov'"
   ]
  },
  {
   "cell_type": "code",
   "execution_count": 45,
   "metadata": {},
   "outputs": [],
   "source": [
    "# token to index for training data\n",
    "token_to_index = {}\n",
    "for cnt, token in enumerate(train_data_vocab):\n",
    "    token_to_index[token] = cnt"
   ]
  },
  {
   "cell_type": "code",
   "execution_count": 46,
   "metadata": {},
   "outputs": [],
   "source": [
    "non_padded_sent_length = []\n",
    "for i in range(len(data)):\n",
    "    non_padded_sent_length.append(len(data[i]))"
   ]
  },
  {
   "cell_type": "code",
   "execution_count": 47,
   "metadata": {},
   "outputs": [],
   "source": [
    "# review level padded thing\n",
    "padded_sent = []\n",
    "for i in range(max_sent_length):\n",
    "    padded_sent.append('pad')\n",
    "# neutral in pad \n",
    "padded_review = [padded_sent,'pad','pad',1]\n",
    "\n",
    "# sentence level and review level padding\n",
    "padded_data = []\n",
    "temp_data = data.copy()\n",
    "for i in range(len(data)):\n",
    "    for j in range(max_review_length):\n",
    "        if j < len(data[i]):\n",
    "            token_lst = data[i][j][0]\n",
    "            sent = []\n",
    "            for k in range(max_sent_length):\n",
    "                if k < len(token_lst):\n",
    "                    sent.append(token_lst[k])\n",
    "                else:\n",
    "                    sent.append('pad')\n",
    "            temp_data[i][j][0] = sent\n",
    "        \n",
    "        else:\n",
    "            temp_data[i].append(padded_review)\n",
    "\n",
    "    # inserting a token to acknowledge that after this point, only padded sentences occur\n",
    "    padded_data.append([temp_data[i],non_padded_sent_length[i]])"
   ]
  },
  {
   "cell_type": "code",
   "execution_count": 48,
   "metadata": {},
   "outputs": [],
   "source": [
    "review_indices = []\n",
    "for i in range(len(padded_data)):\n",
    "    reviews = []\n",
    "    for j in range(len(padded_data[i][0])):\n",
    "        review = []\n",
    "        \n",
    "        lst = []\n",
    "        for token in padded_data[i][0][j][0]:\n",
    "            lst.append(token_to_index[token])\n",
    "\n",
    "        # token indices\n",
    "        review.append(np.array(lst))\n",
    "        # entitiy\n",
    "        review.append(token_to_index[data[i][j][1]])\n",
    "        # attribute\n",
    "        review.append(token_to_index[data[i][j][2]])\n",
    "        # polarity\n",
    "        review.append(data[i][j][3])\n",
    "\n",
    "        reviews.append(review)\n",
    "\n",
    "    review_indices.append([reviews,padded_data[i][1]])"
   ]
  },
  {
   "cell_type": "code",
   "execution_count": 49,
   "metadata": {},
   "outputs": [],
   "source": [
    "embedding_matrix = []\n",
    "for token in train_data_vocab:\n",
    "    embedding_matrix.append(emmbed_dict[token])\n",
    "\n",
    "embedding_matrix = np.array(embedding_matrix)"
   ]
  },
  {
   "cell_type": "code",
   "execution_count": 52,
   "metadata": {},
   "outputs": [],
   "source": [
    "# saving embedding matrix in numpy format\n",
    "np.save('embedding_matrix_laptops_glove200d',embedding_matrix)"
   ]
  },
  {
   "cell_type": "code",
   "execution_count": 50,
   "metadata": {},
   "outputs": [],
   "source": [
    "dump_this_dict = {}\n",
    "for i in range(len(review_indices)):\n",
    "    dump_this_dict[i] = review_indices[i]"
   ]
  },
  {
   "cell_type": "code",
   "execution_count": 51,
   "metadata": {},
   "outputs": [],
   "source": [
    "with open('train_laptops.json', 'wb') as f:\n",
    "    pickle.dump(dump_this_dict, f)"
   ]
  },
  {
   "cell_type": "code",
   "execution_count": 52,
   "metadata": {},
   "outputs": [],
   "source": [
    "with open('train_laptops.json', 'rb') as f:\n",
    "    data = pickle.load(f)"
   ]
  },
  {
   "cell_type": "code",
   "execution_count": null,
   "metadata": {},
   "outputs": [],
   "source": [
    "# dumping token to index, so that we can create test data\n",
    "with open('token_to_index_laptops.json', 'wb') as f:\n",
    "    pickle.dump(token_to_index, f)"
   ]
  },
  {
   "cell_type": "code",
   "execution_count": 53,
   "metadata": {},
   "outputs": [
    {
     "name": "stdout",
     "output_type": "stream",
     "text": [
      "(2617, 50)\n"
     ]
    }
   ],
   "source": [
    "print(embedding_matrix.shape)"
   ]
  },
  {
   "cell_type": "code",
   "execution_count": 54,
   "metadata": {},
   "outputs": [
    {
     "name": "stdout",
     "output_type": "stream",
     "text": [
      "2581 1485 930 166\n"
     ]
    }
   ],
   "source": [
    "total = 0\n",
    "pos = 0\n",
    "neg = 0\n",
    "neu = 0\n",
    "\n",
    "for i in range(len(data)):\n",
    "    for j in range(data[i][1]):\n",
    "        if data[i][0][j][3] == 0:\n",
    "            neg += 1\n",
    "        elif data[i][0][j][3] == 1:\n",
    "            neu += 1\n",
    "        else:\n",
    "            pos += 1\n",
    "\n",
    "        total += 1\n",
    "\n",
    "print(total, pos, neg, neu)"
   ]
  },
  {
   "cell_type": "code",
   "execution_count": null,
   "metadata": {},
   "outputs": [],
   "source": []
  }
 ],
 "metadata": {
  "interpreter": {
   "hash": "916dbcbb3f70747c44a77c7bcd40155683ae19c65e1c03b4aa3499c5328201f1"
  },
  "kernelspec": {
   "display_name": "Python 3.8.10 64-bit",
   "language": "python",
   "name": "python3"
  },
  "language_info": {
   "codemirror_mode": {
    "name": "ipython",
    "version": 3
   },
   "file_extension": ".py",
   "mimetype": "text/x-python",
   "name": "python",
   "nbconvert_exporter": "python",
   "pygments_lexer": "ipython3",
   "version": "3.8.10"
  },
  "orig_nbformat": 4
 },
 "nbformat": 4,
 "nbformat_minor": 2
}
