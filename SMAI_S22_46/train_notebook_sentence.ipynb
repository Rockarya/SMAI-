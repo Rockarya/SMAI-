{
 "cells": [
  {
   "cell_type": "code",
   "execution_count": null,
   "metadata": {},
   "outputs": [],
   "source": [
    "# Library import\n",
    "import xml.etree.ElementTree as ET\n",
    "import spacy\n",
    "import string\n",
    "import numpy as np\n",
    "import json\n",
    "import random\n",
    "import pickle\n",
    "# for auto-correct words in review text\n",
    "from autocorrect import Speller\n",
    "spell = Speller()"
   ]
  },
  {
   "cell_type": "code",
   "execution_count": null,
   "metadata": {},
   "outputs": [],
   "source": [
    "xml_filepath = './dataset/ABSA16_Restaurants_Train_SB1_v2.xml'\n",
    "# create element tree object\n",
    "tree = ET.parse(xml_filepath)\n",
    "\n",
    "# get root element\n",
    "root = tree.getroot()"
   ]
  },
  {
   "cell_type": "code",
   "execution_count": null,
   "metadata": {},
   "outputs": [],
   "source": [
    "data = []\n",
    "for it1 in root.findall('Review'):\n",
    "    for it2 in it1.findall('sentences'):\n",
    "        for it3 in it2.findall('sentence'):\n",
    "            for it4 in it3.findall('text'):\n",
    "                review_text = spell(it4.text.lower())\n",
    "\n",
    "            polarity_sum = 0\n",
    "            for it4 in it3.findall('Opinions'):\n",
    "                for it5 in it4.findall('Opinion'):\n",
    "                    if it5.attrib['polarity'] == 'negative':\n",
    "                        polarity_sum += -1\n",
    "                    elif it5.attrib['polarity'] == 'neutral':\n",
    "                        polarity_sum += 0\n",
    "                    else:\n",
    "                        polarity_sum += 1\n",
    "                    \n",
    "            # 0 negtaive, 1 neutral, 2 positive\n",
    "            if polarity_sum == 0:\n",
    "                polarity = 1  #neutral\n",
    "            elif polarity_sum > 0:\n",
    "                polarity = 2  #positive\n",
    "            else:\n",
    "                polarity = 0  #negative\n",
    "\n",
    "            data.append([review_text,polarity])"
   ]
  },
  {
   "cell_type": "code",
   "execution_count": null,
   "metadata": {},
   "outputs": [],
   "source": [
    "print(len(data))"
   ]
  },
  {
   "cell_type": "code",
   "execution_count": null,
   "metadata": {},
   "outputs": [],
   "source": [
    "# sm is small here, can use large here as lg here by downloading the large file\n",
    "# pip install -U pip setuptools wheel\n",
    "# pip install -U spacy\n",
    "# python -m spacy download en_core_web_lg\n",
    "nlp = spacy.load(\"en_core_web_lg\")\n",
    "\n",
    "\n",
    "# 200 dimensions vectors for the tokens. Giving 0's to padding token and generating randomly for oov tokens.\n",
    "emmbedding_dimensions = 300\n",
    "emmbed_dict = {}\n",
    "emmbed_dict['pad'] = np.zeros(emmbedding_dimensions)\n",
    "\n",
    "with open('../dataset/glove.6B/glove.6B.300d.txt','r') as f:\n",
    "    for line in f:\n",
    "        values = line.split()\n",
    "        word = values[0]\n",
    "        vector = np.asarray(values[1:],'float64')\n",
    "        emmbed_dict[word]=vector\n",
    "\n",
    "emmbed_dict['pad'] = np.zeros(emmbedding_dimensions)\n",
    "\n",
    "vec = []\n",
    "for _ in range(emmbedding_dimensions):\n",
    "    vec.append(random.uniform(-1,1))\n",
    "\n",
    "emmbed_dict['oov'] = np.array(vec)"
   ]
  },
  {
   "cell_type": "code",
   "execution_count": null,
   "metadata": {},
   "outputs": [],
   "source": [
    "# removed punctuations\n",
    "train_data_vocab = set()  #also building training data vocab\n",
    "train_data_vocab.add('pad')\n",
    "train_data_vocab.add('oov')\n",
    "max_sent_length = 0\n",
    "\n",
    "for i in range(len(data)):\n",
    "    sent = data[i][0]\n",
    "    token_lst = []\n",
    "    for it in nlp(sent):\n",
    "        token = it.text\n",
    "        str = ''\n",
    "        for ch in token:\n",
    "            if ch == \"'\" or ch not in string.punctuation:\n",
    "                if ch == \"'\":\n",
    "                    str += ' '\n",
    "                str += ch\n",
    "            else:\n",
    "                str += ' '\n",
    "                \n",
    "        lst = str.split()\n",
    "        for token in lst:\n",
    "            if token in emmbed_dict:\n",
    "                token_lst.append(token)\n",
    "                train_data_vocab.add(token)\n",
    "            else:\n",
    "                token_lst.append('oov')\n",
    "\n",
    "    max_sent_length = max(len(token_lst), max_sent_length)\n",
    "    data[i][0] = token_lst\n",
    "\n",
    "\n",
    "print('Maximum Sentence Length is: ',max_sent_length)"
   ]
  },
  {
   "cell_type": "code",
   "execution_count": null,
   "metadata": {},
   "outputs": [],
   "source": [
    "# token to index for training data\n",
    "token_to_index = {}\n",
    "for cnt, token in enumerate(train_data_vocab):\n",
    "    token_to_index[token] = cnt"
   ]
  },
  {
   "cell_type": "code",
   "execution_count": null,
   "metadata": {},
   "outputs": [],
   "source": [
    "# sentence level padding and converting to indices\n",
    "for i in range(len(data)):\n",
    "    sent_ind = []\n",
    "    for j in range(max_sent_length):\n",
    "        if j < len(data[i][0]):\n",
    "            sent_ind.append(token_to_index[data[i][0][j]])\n",
    "        else:\n",
    "            sent_ind.append(token_to_index['pad'])\n",
    "    data[i][0] = sent_ind"
   ]
  },
  {
   "cell_type": "code",
   "execution_count": null,
   "metadata": {},
   "outputs": [],
   "source": [
    "embedding_matrix = []\n",
    "for token in train_data_vocab:\n",
    "    embedding_matrix.append(emmbed_dict[token])\n",
    "\n",
    "embedding_matrix = np.array(embedding_matrix)"
   ]
  },
  {
   "cell_type": "code",
   "execution_count": null,
   "metadata": {},
   "outputs": [],
   "source": [
    "# saving embedding matrix in numpy format\n",
    "np.save('embedding_matrix_restaurants_sentence_level',embedding_matrix)"
   ]
  },
  {
   "cell_type": "code",
   "execution_count": null,
   "metadata": {},
   "outputs": [],
   "source": [
    "dump_this_dict = {}\n",
    "for i in range(len(data)):\n",
    "    dump_this_dict[i] = data[i]"
   ]
  },
  {
   "cell_type": "code",
   "execution_count": null,
   "metadata": {},
   "outputs": [],
   "source": [
    "with open('train_restaurants_sentence_level.json', 'wb') as f:\n",
    "    pickle.dump(dump_this_dict, f)"
   ]
  },
  {
   "cell_type": "code",
   "execution_count": null,
   "metadata": {},
   "outputs": [],
   "source": [
    "with open('train_restaurants_sentence_level.json', 'rb') as f:\n",
    "    data = pickle.load(f)"
   ]
  },
  {
   "cell_type": "code",
   "execution_count": null,
   "metadata": {},
   "outputs": [],
   "source": [
    "# dumping token to index, so that we can create test data\n",
    "with open('token_to_index_restaurants_sentence_level.json', 'wb') as f:\n",
    "    pickle.dump(token_to_index, f)"
   ]
  },
  {
   "cell_type": "code",
   "execution_count": null,
   "metadata": {},
   "outputs": [],
   "source": [
    "print(embedding_matrix.shape)"
   ]
  },
  {
   "cell_type": "code",
   "execution_count": null,
   "metadata": {},
   "outputs": [],
   "source": [
    "total = 0\n",
    "pos = 0\n",
    "neg = 0\n",
    "neu = 0\n",
    "\n",
    "for i in range(len(data)):\n",
    "    if data[i][1] == 0:\n",
    "        neg += 1\n",
    "    elif data[i][1] == 1:\n",
    "        neu += 1\n",
    "    else:\n",
    "        pos += 1\n",
    "\n",
    "    total += 1\n",
    "\n",
    "print(total, pos, neg, neu)"
   ]
  }
 ],
 "metadata": {
  "language_info": {
   "name": "python"
  },
  "orig_nbformat": 4
 },
 "nbformat": 4,
 "nbformat_minor": 2
}
